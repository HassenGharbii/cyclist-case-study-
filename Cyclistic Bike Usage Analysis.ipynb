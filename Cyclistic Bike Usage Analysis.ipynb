{
 "cells": [
  {
   "cell_type": "markdown",
   "metadata": {},
   "source": [
    "Three questions will guide the future marketing program:\n",
    "1. How do annual members and casual riders use Cyclistic bikes differently?\n",
    "2. Why would casual riders buy Cyclistic annual memberships?\n",
    "3. How can Cyclistic use digital media to influence casual riders to become members?"
   ]
  },
  {
   "cell_type": "code",
   "execution_count": 1,
   "metadata": {},
   "outputs": [],
   "source": [
    "import pandas as pd \n",
    "df0=pd.read_csv(r\"D:\\bike_case\\202207-divvy-tripdata.csv\")\n",
    "df1=pd.read_csv(r\"D:\\bike_case\\202208-divvy-tripdata.csv\")\n",
    "df2=pd.read_csv(r\"D:\\bike_case\\202209-divvy-publictripdata.csv\")\n",
    "df3=pd.read_csv(r\"D:\\bike_case\\202210-divvy-tripdata.csv\")\n",
    "df4=pd.read_csv(r\"D:\\bike_case\\202211-divvy-tripdata.csv\")\n",
    "df5=pd.read_csv(r\"D:\\bike_case\\202212-divvy-tripdata.csv\")\n",
    "df6=pd.read_csv(r\"D:\\bike_case\\202301-divvy-tripdata.csv\")\n",
    "df7=pd.read_csv(r\"D:\\bike_case\\202302-divvy-tripdata.csv\")\n",
    "df8=pd.read_csv(r\"D:\\bike_case\\202303-divvy-tripdata.csv\")\n",
    "df9=pd.read_csv(r\"D:\\bike_case\\202304-divvy-tripdata.csv\")\n",
    "df10=pd.read_csv(r\"D:\\bike_case\\202305-divvy-tripdata.csv\")\n",
    "df11=pd.read_csv(r\"D:\\bike_case\\202306-divvy-tripdata.csv\")\n",
    "df12=pd.read_csv(r\"D:\\bike_case\\202307-divvy-tripdata.csv\")"
   ]
  },
  {
   "cell_type": "code",
   "execution_count": 2,
   "metadata": {},
   "outputs": [],
   "source": [
    "data=pd.concat([df0, df1,df2,df3,df4,df5,df6,df7,df8,df9,df10,df11,df12], axis=0)"
   ]
  },
  {
   "cell_type": "code",
   "execution_count": 3,
   "metadata": {},
   "outputs": [],
   "source": [
    "import pandas as pd \n",
    "from datetime import datetime\n"
   ]
  },
  {
   "cell_type": "code",
   "execution_count": 4,
   "metadata": {},
   "outputs": [
    {
     "data": {
      "text/html": [
       "<div>\n",
       "<style scoped>\n",
       "    .dataframe tbody tr th:only-of-type {\n",
       "        vertical-align: middle;\n",
       "    }\n",
       "\n",
       "    .dataframe tbody tr th {\n",
       "        vertical-align: top;\n",
       "    }\n",
       "\n",
       "    .dataframe thead th {\n",
       "        text-align: right;\n",
       "    }\n",
       "</style>\n",
       "<table border=\"1\" class=\"dataframe\">\n",
       "  <thead>\n",
       "    <tr style=\"text-align: right;\">\n",
       "      <th></th>\n",
       "      <th>ride_id</th>\n",
       "      <th>rideable_type</th>\n",
       "      <th>started_at</th>\n",
       "      <th>ended_at</th>\n",
       "      <th>start_station_name</th>\n",
       "      <th>start_station_id</th>\n",
       "      <th>end_station_name</th>\n",
       "      <th>end_station_id</th>\n",
       "      <th>start_lat</th>\n",
       "      <th>start_lng</th>\n",
       "      <th>end_lat</th>\n",
       "      <th>end_lng</th>\n",
       "      <th>member_casual</th>\n",
       "    </tr>\n",
       "  </thead>\n",
       "  <tbody>\n",
       "    <tr>\n",
       "      <th>0</th>\n",
       "      <td>954144C2F67B1932</td>\n",
       "      <td>classic_bike</td>\n",
       "      <td>2022-07-05 08:12:47</td>\n",
       "      <td>2022-07-05 08:24:32</td>\n",
       "      <td>Ashland Ave &amp; Blackhawk St</td>\n",
       "      <td>13224</td>\n",
       "      <td>Kingsbury St &amp; Kinzie St</td>\n",
       "      <td>KA1503000043</td>\n",
       "      <td>41.907066</td>\n",
       "      <td>-87.667252</td>\n",
       "      <td>41.889177</td>\n",
       "      <td>-87.638506</td>\n",
       "      <td>member</td>\n",
       "    </tr>\n",
       "    <tr>\n",
       "      <th>1</th>\n",
       "      <td>292E027607D218B6</td>\n",
       "      <td>classic_bike</td>\n",
       "      <td>2022-07-26 12:53:38</td>\n",
       "      <td>2022-07-26 12:55:31</td>\n",
       "      <td>Buckingham Fountain (Temp)</td>\n",
       "      <td>15541</td>\n",
       "      <td>Michigan Ave &amp; 8th St</td>\n",
       "      <td>623</td>\n",
       "      <td>41.869621</td>\n",
       "      <td>-87.623981</td>\n",
       "      <td>41.872773</td>\n",
       "      <td>-87.623981</td>\n",
       "      <td>casual</td>\n",
       "    </tr>\n",
       "    <tr>\n",
       "      <th>2</th>\n",
       "      <td>57765852588AD6E0</td>\n",
       "      <td>classic_bike</td>\n",
       "      <td>2022-07-03 13:58:49</td>\n",
       "      <td>2022-07-03 14:06:32</td>\n",
       "      <td>Buckingham Fountain (Temp)</td>\n",
       "      <td>15541</td>\n",
       "      <td>Michigan Ave &amp; 8th St</td>\n",
       "      <td>623</td>\n",
       "      <td>41.869621</td>\n",
       "      <td>-87.623981</td>\n",
       "      <td>41.872773</td>\n",
       "      <td>-87.623981</td>\n",
       "      <td>casual</td>\n",
       "    </tr>\n",
       "    <tr>\n",
       "      <th>3</th>\n",
       "      <td>B5B6BE44314590E6</td>\n",
       "      <td>classic_bike</td>\n",
       "      <td>2022-07-31 17:44:21</td>\n",
       "      <td>2022-07-31 18:42:50</td>\n",
       "      <td>Buckingham Fountain (Temp)</td>\n",
       "      <td>15541</td>\n",
       "      <td>Woodlawn Ave &amp; 55th St</td>\n",
       "      <td>TA1307000164</td>\n",
       "      <td>41.869621</td>\n",
       "      <td>-87.623981</td>\n",
       "      <td>41.795264</td>\n",
       "      <td>-87.596471</td>\n",
       "      <td>casual</td>\n",
       "    </tr>\n",
       "    <tr>\n",
       "      <th>4</th>\n",
       "      <td>A4C331F2A00E79E0</td>\n",
       "      <td>classic_bike</td>\n",
       "      <td>2022-07-13 19:49:06</td>\n",
       "      <td>2022-07-13 20:15:24</td>\n",
       "      <td>Wabash Ave &amp; Grand Ave</td>\n",
       "      <td>TA1307000117</td>\n",
       "      <td>Sheffield Ave &amp; Wellington Ave</td>\n",
       "      <td>TA1307000052</td>\n",
       "      <td>41.891466</td>\n",
       "      <td>-87.626761</td>\n",
       "      <td>41.936253</td>\n",
       "      <td>-87.652662</td>\n",
       "      <td>member</td>\n",
       "    </tr>\n",
       "    <tr>\n",
       "      <th>...</th>\n",
       "      <td>...</td>\n",
       "      <td>...</td>\n",
       "      <td>...</td>\n",
       "      <td>...</td>\n",
       "      <td>...</td>\n",
       "      <td>...</td>\n",
       "      <td>...</td>\n",
       "      <td>...</td>\n",
       "      <td>...</td>\n",
       "      <td>...</td>\n",
       "      <td>...</td>\n",
       "      <td>...</td>\n",
       "      <td>...</td>\n",
       "    </tr>\n",
       "    <tr>\n",
       "      <th>767645</th>\n",
       "      <td>57F5743A5828DA62</td>\n",
       "      <td>electric_bike</td>\n",
       "      <td>2023-07-14 19:17:13</td>\n",
       "      <td>2023-07-14 19:26:31</td>\n",
       "      <td>NaN</td>\n",
       "      <td>NaN</td>\n",
       "      <td>California Ave &amp; Division St</td>\n",
       "      <td>13256</td>\n",
       "      <td>41.910000</td>\n",
       "      <td>-87.680000</td>\n",
       "      <td>41.903029</td>\n",
       "      <td>-87.697474</td>\n",
       "      <td>member</td>\n",
       "    </tr>\n",
       "    <tr>\n",
       "      <th>767646</th>\n",
       "      <td>2FF218D4C8F0EF1C</td>\n",
       "      <td>electric_bike</td>\n",
       "      <td>2023-07-14 19:16:13</td>\n",
       "      <td>2023-07-14 19:16:16</td>\n",
       "      <td>NaN</td>\n",
       "      <td>NaN</td>\n",
       "      <td>NaN</td>\n",
       "      <td>NaN</td>\n",
       "      <td>41.910000</td>\n",
       "      <td>-87.680000</td>\n",
       "      <td>41.910000</td>\n",
       "      <td>-87.680000</td>\n",
       "      <td>member</td>\n",
       "    </tr>\n",
       "    <tr>\n",
       "      <th>767647</th>\n",
       "      <td>2661FBD1F5A1C76D</td>\n",
       "      <td>electric_bike</td>\n",
       "      <td>2023-07-15 13:34:00</td>\n",
       "      <td>2023-07-15 13:43:13</td>\n",
       "      <td>NaN</td>\n",
       "      <td>NaN</td>\n",
       "      <td>NaN</td>\n",
       "      <td>NaN</td>\n",
       "      <td>41.940000</td>\n",
       "      <td>-87.650000</td>\n",
       "      <td>41.930000</td>\n",
       "      <td>-87.640000</td>\n",
       "      <td>member</td>\n",
       "    </tr>\n",
       "    <tr>\n",
       "      <th>767648</th>\n",
       "      <td>9CF4B70C23E033B1</td>\n",
       "      <td>electric_bike</td>\n",
       "      <td>2023-07-06 20:52:09</td>\n",
       "      <td>2023-07-06 21:01:13</td>\n",
       "      <td>NaN</td>\n",
       "      <td>NaN</td>\n",
       "      <td>NaN</td>\n",
       "      <td>NaN</td>\n",
       "      <td>41.910000</td>\n",
       "      <td>-87.630000</td>\n",
       "      <td>41.930000</td>\n",
       "      <td>-87.640000</td>\n",
       "      <td>member</td>\n",
       "    </tr>\n",
       "    <tr>\n",
       "      <th>767649</th>\n",
       "      <td>7AD613C71AD143CD</td>\n",
       "      <td>electric_bike</td>\n",
       "      <td>2023-07-07 18:47:27</td>\n",
       "      <td>2023-07-07 18:51:46</td>\n",
       "      <td>NaN</td>\n",
       "      <td>NaN</td>\n",
       "      <td>NaN</td>\n",
       "      <td>NaN</td>\n",
       "      <td>41.930000</td>\n",
       "      <td>-87.650000</td>\n",
       "      <td>41.940000</td>\n",
       "      <td>-87.660000</td>\n",
       "      <td>member</td>\n",
       "    </tr>\n",
       "  </tbody>\n",
       "</table>\n",
       "<p>6547094 rows × 13 columns</p>\n",
       "</div>"
      ],
      "text/plain": [
       "                 ride_id  rideable_type           started_at   \n",
       "0       954144C2F67B1932   classic_bike  2022-07-05 08:12:47  \\\n",
       "1       292E027607D218B6   classic_bike  2022-07-26 12:53:38   \n",
       "2       57765852588AD6E0   classic_bike  2022-07-03 13:58:49   \n",
       "3       B5B6BE44314590E6   classic_bike  2022-07-31 17:44:21   \n",
       "4       A4C331F2A00E79E0   classic_bike  2022-07-13 19:49:06   \n",
       "...                  ...            ...                  ...   \n",
       "767645  57F5743A5828DA62  electric_bike  2023-07-14 19:17:13   \n",
       "767646  2FF218D4C8F0EF1C  electric_bike  2023-07-14 19:16:13   \n",
       "767647  2661FBD1F5A1C76D  electric_bike  2023-07-15 13:34:00   \n",
       "767648  9CF4B70C23E033B1  electric_bike  2023-07-06 20:52:09   \n",
       "767649  7AD613C71AD143CD  electric_bike  2023-07-07 18:47:27   \n",
       "\n",
       "                   ended_at          start_station_name start_station_id   \n",
       "0       2022-07-05 08:24:32  Ashland Ave & Blackhawk St            13224  \\\n",
       "1       2022-07-26 12:55:31  Buckingham Fountain (Temp)            15541   \n",
       "2       2022-07-03 14:06:32  Buckingham Fountain (Temp)            15541   \n",
       "3       2022-07-31 18:42:50  Buckingham Fountain (Temp)            15541   \n",
       "4       2022-07-13 20:15:24      Wabash Ave & Grand Ave     TA1307000117   \n",
       "...                     ...                         ...              ...   \n",
       "767645  2023-07-14 19:26:31                         NaN              NaN   \n",
       "767646  2023-07-14 19:16:16                         NaN              NaN   \n",
       "767647  2023-07-15 13:43:13                         NaN              NaN   \n",
       "767648  2023-07-06 21:01:13                         NaN              NaN   \n",
       "767649  2023-07-07 18:51:46                         NaN              NaN   \n",
       "\n",
       "                      end_station_name end_station_id  start_lat  start_lng   \n",
       "0             Kingsbury St & Kinzie St   KA1503000043  41.907066 -87.667252  \\\n",
       "1                Michigan Ave & 8th St            623  41.869621 -87.623981   \n",
       "2                Michigan Ave & 8th St            623  41.869621 -87.623981   \n",
       "3               Woodlawn Ave & 55th St   TA1307000164  41.869621 -87.623981   \n",
       "4       Sheffield Ave & Wellington Ave   TA1307000052  41.891466 -87.626761   \n",
       "...                                ...            ...        ...        ...   \n",
       "767645    California Ave & Division St          13256  41.910000 -87.680000   \n",
       "767646                             NaN            NaN  41.910000 -87.680000   \n",
       "767647                             NaN            NaN  41.940000 -87.650000   \n",
       "767648                             NaN            NaN  41.910000 -87.630000   \n",
       "767649                             NaN            NaN  41.930000 -87.650000   \n",
       "\n",
       "          end_lat    end_lng member_casual  \n",
       "0       41.889177 -87.638506        member  \n",
       "1       41.872773 -87.623981        casual  \n",
       "2       41.872773 -87.623981        casual  \n",
       "3       41.795264 -87.596471        casual  \n",
       "4       41.936253 -87.652662        member  \n",
       "...           ...        ...           ...  \n",
       "767645  41.903029 -87.697474        member  \n",
       "767646  41.910000 -87.680000        member  \n",
       "767647  41.930000 -87.640000        member  \n",
       "767648  41.930000 -87.640000        member  \n",
       "767649  41.940000 -87.660000        member  \n",
       "\n",
       "[6547094 rows x 13 columns]"
      ]
     },
     "execution_count": 4,
     "metadata": {},
     "output_type": "execute_result"
    }
   ],
   "source": [
    "data"
   ]
  },
  {
   "cell_type": "code",
   "execution_count": 5,
   "metadata": {},
   "outputs": [],
   "source": [
    "data = data.dropna()\n"
   ]
  },
  {
   "cell_type": "code",
   "execution_count": 6,
   "metadata": {},
   "outputs": [
    {
     "data": {
      "text/plain": [
       "Index(['ride_id', 'rideable_type', 'started_at', 'ended_at',\n",
       "       'start_station_name', 'start_station_id', 'end_station_name',\n",
       "       'end_station_id', 'start_lat', 'start_lng', 'end_lat', 'end_lng',\n",
       "       'member_casual'],\n",
       "      dtype='object')"
      ]
     },
     "execution_count": 6,
     "metadata": {},
     "output_type": "execute_result"
    }
   ],
   "source": [
    "data.columns"
   ]
  },
  {
   "cell_type": "code",
   "execution_count": 7,
   "metadata": {},
   "outputs": [
    {
     "name": "stdout",
     "output_type": "stream",
     "text": [
      "<class 'pandas.core.frame.DataFrame'>\n",
      "Index: 4983047 entries, 0 to 767626\n",
      "Data columns (total 13 columns):\n",
      " #   Column              Dtype  \n",
      "---  ------              -----  \n",
      " 0   ride_id             object \n",
      " 1   rideable_type       object \n",
      " 2   started_at          object \n",
      " 3   ended_at            object \n",
      " 4   start_station_name  object \n",
      " 5   start_station_id    object \n",
      " 6   end_station_name    object \n",
      " 7   end_station_id      object \n",
      " 8   start_lat           float64\n",
      " 9   start_lng           float64\n",
      " 10  end_lat             float64\n",
      " 11  end_lng             float64\n",
      " 12  member_casual       object \n",
      "dtypes: float64(4), object(9)\n",
      "memory usage: 532.2+ MB\n"
     ]
    }
   ],
   "source": [
    "data.info()"
   ]
  },
  {
   "cell_type": "code",
   "execution_count": 8,
   "metadata": {},
   "outputs": [
    {
     "name": "stderr",
     "output_type": "stream",
     "text": [
      "C:\\Users\\PC\\AppData\\Local\\Temp\\ipykernel_7916\\3073981643.py:2: SettingWithCopyWarning: \n",
      "A value is trying to be set on a copy of a slice from a DataFrame.\n",
      "Try using .loc[row_indexer,col_indexer] = value instead\n",
      "\n",
      "See the caveats in the documentation: https://pandas.pydata.org/pandas-docs/stable/user_guide/indexing.html#returning-a-view-versus-a-copy\n",
      "  data['started_at'] = pd.to_datetime(data['started_at'])\n"
     ]
    },
    {
     "name": "stdout",
     "output_type": "stream",
     "text": [
      "<class 'pandas.core.frame.DataFrame'>\n",
      "Index: 4983047 entries, 0 to 767626\n",
      "Data columns (total 13 columns):\n",
      " #   Column              Dtype         \n",
      "---  ------              -----         \n",
      " 0   ride_id             object        \n",
      " 1   rideable_type       object        \n",
      " 2   started_at          datetime64[ns]\n",
      " 3   ended_at            datetime64[ns]\n",
      " 4   start_station_name  object        \n",
      " 5   start_station_id    object        \n",
      " 6   end_station_name    object        \n",
      " 7   end_station_id      object        \n",
      " 8   start_lat           float64       \n",
      " 9   start_lng           float64       \n",
      " 10  end_lat             float64       \n",
      " 11  end_lng             float64       \n",
      " 12  member_casual       object        \n",
      "dtypes: datetime64[ns](2), float64(4), object(7)\n",
      "memory usage: 532.2+ MB\n"
     ]
    },
    {
     "name": "stderr",
     "output_type": "stream",
     "text": [
      "C:\\Users\\PC\\AppData\\Local\\Temp\\ipykernel_7916\\3073981643.py:3: SettingWithCopyWarning: \n",
      "A value is trying to be set on a copy of a slice from a DataFrame.\n",
      "Try using .loc[row_indexer,col_indexer] = value instead\n",
      "\n",
      "See the caveats in the documentation: https://pandas.pydata.org/pandas-docs/stable/user_guide/indexing.html#returning-a-view-versus-a-copy\n",
      "  data['ended_at'] = pd.to_datetime(data['ended_at'])\n"
     ]
    }
   ],
   "source": [
    "#converting object date columns to date\n",
    "data['started_at'] = pd.to_datetime(data['started_at'])\n",
    "data['ended_at'] = pd.to_datetime(data['ended_at'])\n",
    "\n",
    "data.info()"
   ]
  },
  {
   "cell_type": "code",
   "execution_count": 9,
   "metadata": {},
   "outputs": [
    {
     "data": {
      "text/html": [
       "<div>\n",
       "<style scoped>\n",
       "    .dataframe tbody tr th:only-of-type {\n",
       "        vertical-align: middle;\n",
       "    }\n",
       "\n",
       "    .dataframe tbody tr th {\n",
       "        vertical-align: top;\n",
       "    }\n",
       "\n",
       "    .dataframe thead th {\n",
       "        text-align: right;\n",
       "    }\n",
       "</style>\n",
       "<table border=\"1\" class=\"dataframe\">\n",
       "  <thead>\n",
       "    <tr style=\"text-align: right;\">\n",
       "      <th></th>\n",
       "      <th>ride_id</th>\n",
       "      <th>rideable_type</th>\n",
       "      <th>started_at</th>\n",
       "      <th>ended_at</th>\n",
       "      <th>start_station_name</th>\n",
       "      <th>start_station_id</th>\n",
       "      <th>end_station_name</th>\n",
       "      <th>end_station_id</th>\n",
       "      <th>start_lat</th>\n",
       "      <th>start_lng</th>\n",
       "      <th>end_lat</th>\n",
       "      <th>end_lng</th>\n",
       "      <th>member_casual</th>\n",
       "    </tr>\n",
       "  </thead>\n",
       "  <tbody>\n",
       "    <tr>\n",
       "      <th>0</th>\n",
       "      <td>954144C2F67B1932</td>\n",
       "      <td>classic_bike</td>\n",
       "      <td>2022-07-05 08:12:47</td>\n",
       "      <td>2022-07-05 08:24:32</td>\n",
       "      <td>Ashland Ave &amp; Blackhawk St</td>\n",
       "      <td>13224</td>\n",
       "      <td>Kingsbury St &amp; Kinzie St</td>\n",
       "      <td>KA1503000043</td>\n",
       "      <td>41.907066</td>\n",
       "      <td>-87.667252</td>\n",
       "      <td>41.889177</td>\n",
       "      <td>-87.638506</td>\n",
       "      <td>member</td>\n",
       "    </tr>\n",
       "    <tr>\n",
       "      <th>1</th>\n",
       "      <td>292E027607D218B6</td>\n",
       "      <td>classic_bike</td>\n",
       "      <td>2022-07-26 12:53:38</td>\n",
       "      <td>2022-07-26 12:55:31</td>\n",
       "      <td>Buckingham Fountain (Temp)</td>\n",
       "      <td>15541</td>\n",
       "      <td>Michigan Ave &amp; 8th St</td>\n",
       "      <td>623</td>\n",
       "      <td>41.869621</td>\n",
       "      <td>-87.623981</td>\n",
       "      <td>41.872773</td>\n",
       "      <td>-87.623981</td>\n",
       "      <td>casual</td>\n",
       "    </tr>\n",
       "    <tr>\n",
       "      <th>2</th>\n",
       "      <td>57765852588AD6E0</td>\n",
       "      <td>classic_bike</td>\n",
       "      <td>2022-07-03 13:58:49</td>\n",
       "      <td>2022-07-03 14:06:32</td>\n",
       "      <td>Buckingham Fountain (Temp)</td>\n",
       "      <td>15541</td>\n",
       "      <td>Michigan Ave &amp; 8th St</td>\n",
       "      <td>623</td>\n",
       "      <td>41.869621</td>\n",
       "      <td>-87.623981</td>\n",
       "      <td>41.872773</td>\n",
       "      <td>-87.623981</td>\n",
       "      <td>casual</td>\n",
       "    </tr>\n",
       "    <tr>\n",
       "      <th>3</th>\n",
       "      <td>B5B6BE44314590E6</td>\n",
       "      <td>classic_bike</td>\n",
       "      <td>2022-07-31 17:44:21</td>\n",
       "      <td>2022-07-31 18:42:50</td>\n",
       "      <td>Buckingham Fountain (Temp)</td>\n",
       "      <td>15541</td>\n",
       "      <td>Woodlawn Ave &amp; 55th St</td>\n",
       "      <td>TA1307000164</td>\n",
       "      <td>41.869621</td>\n",
       "      <td>-87.623981</td>\n",
       "      <td>41.795264</td>\n",
       "      <td>-87.596471</td>\n",
       "      <td>casual</td>\n",
       "    </tr>\n",
       "    <tr>\n",
       "      <th>4</th>\n",
       "      <td>A4C331F2A00E79E0</td>\n",
       "      <td>classic_bike</td>\n",
       "      <td>2022-07-13 19:49:06</td>\n",
       "      <td>2022-07-13 20:15:24</td>\n",
       "      <td>Wabash Ave &amp; Grand Ave</td>\n",
       "      <td>TA1307000117</td>\n",
       "      <td>Sheffield Ave &amp; Wellington Ave</td>\n",
       "      <td>TA1307000052</td>\n",
       "      <td>41.891466</td>\n",
       "      <td>-87.626761</td>\n",
       "      <td>41.936253</td>\n",
       "      <td>-87.652662</td>\n",
       "      <td>member</td>\n",
       "    </tr>\n",
       "    <tr>\n",
       "      <th>...</th>\n",
       "      <td>...</td>\n",
       "      <td>...</td>\n",
       "      <td>...</td>\n",
       "      <td>...</td>\n",
       "      <td>...</td>\n",
       "      <td>...</td>\n",
       "      <td>...</td>\n",
       "      <td>...</td>\n",
       "      <td>...</td>\n",
       "      <td>...</td>\n",
       "      <td>...</td>\n",
       "      <td>...</td>\n",
       "      <td>...</td>\n",
       "    </tr>\n",
       "    <tr>\n",
       "      <th>767338</th>\n",
       "      <td>3B228F52743C58B7</td>\n",
       "      <td>classic_bike</td>\n",
       "      <td>2023-07-21 13:13:48</td>\n",
       "      <td>2023-07-21 15:08:04</td>\n",
       "      <td>Western Ave &amp; Roscoe St</td>\n",
       "      <td>15634</td>\n",
       "      <td>Western Ave &amp; Roscoe St</td>\n",
       "      <td>15634</td>\n",
       "      <td>41.943034</td>\n",
       "      <td>-87.687288</td>\n",
       "      <td>41.943034</td>\n",
       "      <td>-87.687288</td>\n",
       "      <td>casual</td>\n",
       "    </tr>\n",
       "    <tr>\n",
       "      <th>767444</th>\n",
       "      <td>67BE62CFD9B1E3EA</td>\n",
       "      <td>electric_bike</td>\n",
       "      <td>2023-07-17 13:45:41</td>\n",
       "      <td>2023-07-17 13:45:43</td>\n",
       "      <td>California Ave &amp; Milwaukee Ave</td>\n",
       "      <td>13084</td>\n",
       "      <td>California Ave &amp; Milwaukee Ave</td>\n",
       "      <td>13084</td>\n",
       "      <td>41.922667</td>\n",
       "      <td>-87.697114</td>\n",
       "      <td>41.922695</td>\n",
       "      <td>-87.697153</td>\n",
       "      <td>member</td>\n",
       "    </tr>\n",
       "    <tr>\n",
       "      <th>767535</th>\n",
       "      <td>E771BD59731AEC4D</td>\n",
       "      <td>electric_bike</td>\n",
       "      <td>2023-07-26 18:05:32</td>\n",
       "      <td>2023-07-26 18:18:23</td>\n",
       "      <td>Kenosha &amp; Wellington</td>\n",
       "      <td>361</td>\n",
       "      <td>Kenosha &amp; Wellington</td>\n",
       "      <td>361</td>\n",
       "      <td>41.934455</td>\n",
       "      <td>-87.733782</td>\n",
       "      <td>41.934442</td>\n",
       "      <td>-87.733780</td>\n",
       "      <td>member</td>\n",
       "    </tr>\n",
       "    <tr>\n",
       "      <th>767594</th>\n",
       "      <td>70B7A0759219DB7E</td>\n",
       "      <td>electric_bike</td>\n",
       "      <td>2023-07-13 13:38:44</td>\n",
       "      <td>2023-07-13 13:39:21</td>\n",
       "      <td>Kedzie Ave &amp; Lake St</td>\n",
       "      <td>KA1504000106</td>\n",
       "      <td>Kedzie Ave &amp; Lake St</td>\n",
       "      <td>KA1504000106</td>\n",
       "      <td>41.884788</td>\n",
       "      <td>-87.706334</td>\n",
       "      <td>41.884603</td>\n",
       "      <td>-87.706304</td>\n",
       "      <td>member</td>\n",
       "    </tr>\n",
       "    <tr>\n",
       "      <th>767626</th>\n",
       "      <td>C2B90902C368721D</td>\n",
       "      <td>electric_bike</td>\n",
       "      <td>2023-07-21 07:08:05</td>\n",
       "      <td>2023-07-21 07:08:42</td>\n",
       "      <td>Wood St &amp; Chicago Ave</td>\n",
       "      <td>637</td>\n",
       "      <td>Wood St &amp; Chicago Ave</td>\n",
       "      <td>637</td>\n",
       "      <td>41.895655</td>\n",
       "      <td>-87.672211</td>\n",
       "      <td>41.895634</td>\n",
       "      <td>-87.672069</td>\n",
       "      <td>member</td>\n",
       "    </tr>\n",
       "  </tbody>\n",
       "</table>\n",
       "<p>4983047 rows × 13 columns</p>\n",
       "</div>"
      ],
      "text/plain": [
       "                 ride_id  rideable_type          started_at   \n",
       "0       954144C2F67B1932   classic_bike 2022-07-05 08:12:47  \\\n",
       "1       292E027607D218B6   classic_bike 2022-07-26 12:53:38   \n",
       "2       57765852588AD6E0   classic_bike 2022-07-03 13:58:49   \n",
       "3       B5B6BE44314590E6   classic_bike 2022-07-31 17:44:21   \n",
       "4       A4C331F2A00E79E0   classic_bike 2022-07-13 19:49:06   \n",
       "...                  ...            ...                 ...   \n",
       "767338  3B228F52743C58B7   classic_bike 2023-07-21 13:13:48   \n",
       "767444  67BE62CFD9B1E3EA  electric_bike 2023-07-17 13:45:41   \n",
       "767535  E771BD59731AEC4D  electric_bike 2023-07-26 18:05:32   \n",
       "767594  70B7A0759219DB7E  electric_bike 2023-07-13 13:38:44   \n",
       "767626  C2B90902C368721D  electric_bike 2023-07-21 07:08:05   \n",
       "\n",
       "                  ended_at              start_station_name start_station_id   \n",
       "0      2022-07-05 08:24:32      Ashland Ave & Blackhawk St            13224  \\\n",
       "1      2022-07-26 12:55:31      Buckingham Fountain (Temp)            15541   \n",
       "2      2022-07-03 14:06:32      Buckingham Fountain (Temp)            15541   \n",
       "3      2022-07-31 18:42:50      Buckingham Fountain (Temp)            15541   \n",
       "4      2022-07-13 20:15:24          Wabash Ave & Grand Ave     TA1307000117   \n",
       "...                    ...                             ...              ...   \n",
       "767338 2023-07-21 15:08:04         Western Ave & Roscoe St            15634   \n",
       "767444 2023-07-17 13:45:43  California Ave & Milwaukee Ave            13084   \n",
       "767535 2023-07-26 18:18:23            Kenosha & Wellington              361   \n",
       "767594 2023-07-13 13:39:21            Kedzie Ave & Lake St     KA1504000106   \n",
       "767626 2023-07-21 07:08:42           Wood St & Chicago Ave              637   \n",
       "\n",
       "                      end_station_name end_station_id  start_lat  start_lng   \n",
       "0             Kingsbury St & Kinzie St   KA1503000043  41.907066 -87.667252  \\\n",
       "1                Michigan Ave & 8th St            623  41.869621 -87.623981   \n",
       "2                Michigan Ave & 8th St            623  41.869621 -87.623981   \n",
       "3               Woodlawn Ave & 55th St   TA1307000164  41.869621 -87.623981   \n",
       "4       Sheffield Ave & Wellington Ave   TA1307000052  41.891466 -87.626761   \n",
       "...                                ...            ...        ...        ...   \n",
       "767338         Western Ave & Roscoe St          15634  41.943034 -87.687288   \n",
       "767444  California Ave & Milwaukee Ave          13084  41.922667 -87.697114   \n",
       "767535            Kenosha & Wellington            361  41.934455 -87.733782   \n",
       "767594            Kedzie Ave & Lake St   KA1504000106  41.884788 -87.706334   \n",
       "767626           Wood St & Chicago Ave            637  41.895655 -87.672211   \n",
       "\n",
       "          end_lat    end_lng member_casual  \n",
       "0       41.889177 -87.638506        member  \n",
       "1       41.872773 -87.623981        casual  \n",
       "2       41.872773 -87.623981        casual  \n",
       "3       41.795264 -87.596471        casual  \n",
       "4       41.936253 -87.652662        member  \n",
       "...           ...        ...           ...  \n",
       "767338  41.943034 -87.687288        casual  \n",
       "767444  41.922695 -87.697153        member  \n",
       "767535  41.934442 -87.733780        member  \n",
       "767594  41.884603 -87.706304        member  \n",
       "767626  41.895634 -87.672069        member  \n",
       "\n",
       "[4983047 rows x 13 columns]"
      ]
     },
     "execution_count": 9,
     "metadata": {},
     "output_type": "execute_result"
    }
   ],
   "source": [
    "data"
   ]
  },
  {
   "cell_type": "code",
   "execution_count": 10,
   "metadata": {},
   "outputs": [
    {
     "data": {
      "text/plain": [
       "member_casual\n",
       "member    0.614508\n",
       "casual    0.385492\n",
       "Name: proportion, dtype: float64"
      ]
     },
     "execution_count": 10,
     "metadata": {},
     "output_type": "execute_result"
    }
   ],
   "source": [
    "data[\"member_casual\"].value_counts(normalize=True)"
   ]
  },
  {
   "cell_type": "markdown",
   "metadata": {},
   "source": [
    "**ride_length new column**\n"
   ]
  },
  {
   "cell_type": "code",
   "execution_count": 11,
   "metadata": {},
   "outputs": [
    {
     "name": "stderr",
     "output_type": "stream",
     "text": [
      "C:\\Users\\PC\\AppData\\Local\\Temp\\ipykernel_7916\\1459874093.py:1: SettingWithCopyWarning: \n",
      "A value is trying to be set on a copy of a slice from a DataFrame.\n",
      "Try using .loc[row_indexer,col_indexer] = value instead\n",
      "\n",
      "See the caveats in the documentation: https://pandas.pydata.org/pandas-docs/stable/user_guide/indexing.html#returning-a-view-versus-a-copy\n",
      "  data['ride_length'] = data['ended_at'] - data['started_at']\n"
     ]
    }
   ],
   "source": [
    "data['ride_length'] = data['ended_at'] - data['started_at']\n",
    "\n"
   ]
  },
  {
   "cell_type": "code",
   "execution_count": 12,
   "metadata": {},
   "outputs": [
    {
     "data": {
      "text/html": [
       "<div>\n",
       "<style scoped>\n",
       "    .dataframe tbody tr th:only-of-type {\n",
       "        vertical-align: middle;\n",
       "    }\n",
       "\n",
       "    .dataframe tbody tr th {\n",
       "        vertical-align: top;\n",
       "    }\n",
       "\n",
       "    .dataframe thead th {\n",
       "        text-align: right;\n",
       "    }\n",
       "</style>\n",
       "<table border=\"1\" class=\"dataframe\">\n",
       "  <thead>\n",
       "    <tr style=\"text-align: right;\">\n",
       "      <th></th>\n",
       "      <th>ride_id</th>\n",
       "      <th>rideable_type</th>\n",
       "      <th>started_at</th>\n",
       "      <th>ended_at</th>\n",
       "      <th>start_station_name</th>\n",
       "      <th>start_station_id</th>\n",
       "      <th>end_station_name</th>\n",
       "      <th>end_station_id</th>\n",
       "      <th>start_lat</th>\n",
       "      <th>start_lng</th>\n",
       "      <th>end_lat</th>\n",
       "      <th>end_lng</th>\n",
       "      <th>member_casual</th>\n",
       "      <th>ride_length</th>\n",
       "    </tr>\n",
       "  </thead>\n",
       "  <tbody>\n",
       "    <tr>\n",
       "      <th>0</th>\n",
       "      <td>954144C2F67B1932</td>\n",
       "      <td>classic_bike</td>\n",
       "      <td>2022-07-05 08:12:47</td>\n",
       "      <td>2022-07-05 08:24:32</td>\n",
       "      <td>Ashland Ave &amp; Blackhawk St</td>\n",
       "      <td>13224</td>\n",
       "      <td>Kingsbury St &amp; Kinzie St</td>\n",
       "      <td>KA1503000043</td>\n",
       "      <td>41.907066</td>\n",
       "      <td>-87.667252</td>\n",
       "      <td>41.889177</td>\n",
       "      <td>-87.638506</td>\n",
       "      <td>member</td>\n",
       "      <td>0 days 00:11:45</td>\n",
       "    </tr>\n",
       "    <tr>\n",
       "      <th>1</th>\n",
       "      <td>292E027607D218B6</td>\n",
       "      <td>classic_bike</td>\n",
       "      <td>2022-07-26 12:53:38</td>\n",
       "      <td>2022-07-26 12:55:31</td>\n",
       "      <td>Buckingham Fountain (Temp)</td>\n",
       "      <td>15541</td>\n",
       "      <td>Michigan Ave &amp; 8th St</td>\n",
       "      <td>623</td>\n",
       "      <td>41.869621</td>\n",
       "      <td>-87.623981</td>\n",
       "      <td>41.872773</td>\n",
       "      <td>-87.623981</td>\n",
       "      <td>casual</td>\n",
       "      <td>0 days 00:01:53</td>\n",
       "    </tr>\n",
       "    <tr>\n",
       "      <th>2</th>\n",
       "      <td>57765852588AD6E0</td>\n",
       "      <td>classic_bike</td>\n",
       "      <td>2022-07-03 13:58:49</td>\n",
       "      <td>2022-07-03 14:06:32</td>\n",
       "      <td>Buckingham Fountain (Temp)</td>\n",
       "      <td>15541</td>\n",
       "      <td>Michigan Ave &amp; 8th St</td>\n",
       "      <td>623</td>\n",
       "      <td>41.869621</td>\n",
       "      <td>-87.623981</td>\n",
       "      <td>41.872773</td>\n",
       "      <td>-87.623981</td>\n",
       "      <td>casual</td>\n",
       "      <td>0 days 00:07:43</td>\n",
       "    </tr>\n",
       "    <tr>\n",
       "      <th>3</th>\n",
       "      <td>B5B6BE44314590E6</td>\n",
       "      <td>classic_bike</td>\n",
       "      <td>2022-07-31 17:44:21</td>\n",
       "      <td>2022-07-31 18:42:50</td>\n",
       "      <td>Buckingham Fountain (Temp)</td>\n",
       "      <td>15541</td>\n",
       "      <td>Woodlawn Ave &amp; 55th St</td>\n",
       "      <td>TA1307000164</td>\n",
       "      <td>41.869621</td>\n",
       "      <td>-87.623981</td>\n",
       "      <td>41.795264</td>\n",
       "      <td>-87.596471</td>\n",
       "      <td>casual</td>\n",
       "      <td>0 days 00:58:29</td>\n",
       "    </tr>\n",
       "    <tr>\n",
       "      <th>4</th>\n",
       "      <td>A4C331F2A00E79E0</td>\n",
       "      <td>classic_bike</td>\n",
       "      <td>2022-07-13 19:49:06</td>\n",
       "      <td>2022-07-13 20:15:24</td>\n",
       "      <td>Wabash Ave &amp; Grand Ave</td>\n",
       "      <td>TA1307000117</td>\n",
       "      <td>Sheffield Ave &amp; Wellington Ave</td>\n",
       "      <td>TA1307000052</td>\n",
       "      <td>41.891466</td>\n",
       "      <td>-87.626761</td>\n",
       "      <td>41.936253</td>\n",
       "      <td>-87.652662</td>\n",
       "      <td>member</td>\n",
       "      <td>0 days 00:26:18</td>\n",
       "    </tr>\n",
       "    <tr>\n",
       "      <th>...</th>\n",
       "      <td>...</td>\n",
       "      <td>...</td>\n",
       "      <td>...</td>\n",
       "      <td>...</td>\n",
       "      <td>...</td>\n",
       "      <td>...</td>\n",
       "      <td>...</td>\n",
       "      <td>...</td>\n",
       "      <td>...</td>\n",
       "      <td>...</td>\n",
       "      <td>...</td>\n",
       "      <td>...</td>\n",
       "      <td>...</td>\n",
       "      <td>...</td>\n",
       "    </tr>\n",
       "    <tr>\n",
       "      <th>767338</th>\n",
       "      <td>3B228F52743C58B7</td>\n",
       "      <td>classic_bike</td>\n",
       "      <td>2023-07-21 13:13:48</td>\n",
       "      <td>2023-07-21 15:08:04</td>\n",
       "      <td>Western Ave &amp; Roscoe St</td>\n",
       "      <td>15634</td>\n",
       "      <td>Western Ave &amp; Roscoe St</td>\n",
       "      <td>15634</td>\n",
       "      <td>41.943034</td>\n",
       "      <td>-87.687288</td>\n",
       "      <td>41.943034</td>\n",
       "      <td>-87.687288</td>\n",
       "      <td>casual</td>\n",
       "      <td>0 days 01:54:16</td>\n",
       "    </tr>\n",
       "    <tr>\n",
       "      <th>767444</th>\n",
       "      <td>67BE62CFD9B1E3EA</td>\n",
       "      <td>electric_bike</td>\n",
       "      <td>2023-07-17 13:45:41</td>\n",
       "      <td>2023-07-17 13:45:43</td>\n",
       "      <td>California Ave &amp; Milwaukee Ave</td>\n",
       "      <td>13084</td>\n",
       "      <td>California Ave &amp; Milwaukee Ave</td>\n",
       "      <td>13084</td>\n",
       "      <td>41.922667</td>\n",
       "      <td>-87.697114</td>\n",
       "      <td>41.922695</td>\n",
       "      <td>-87.697153</td>\n",
       "      <td>member</td>\n",
       "      <td>0 days 00:00:02</td>\n",
       "    </tr>\n",
       "    <tr>\n",
       "      <th>767535</th>\n",
       "      <td>E771BD59731AEC4D</td>\n",
       "      <td>electric_bike</td>\n",
       "      <td>2023-07-26 18:05:32</td>\n",
       "      <td>2023-07-26 18:18:23</td>\n",
       "      <td>Kenosha &amp; Wellington</td>\n",
       "      <td>361</td>\n",
       "      <td>Kenosha &amp; Wellington</td>\n",
       "      <td>361</td>\n",
       "      <td>41.934455</td>\n",
       "      <td>-87.733782</td>\n",
       "      <td>41.934442</td>\n",
       "      <td>-87.733780</td>\n",
       "      <td>member</td>\n",
       "      <td>0 days 00:12:51</td>\n",
       "    </tr>\n",
       "    <tr>\n",
       "      <th>767594</th>\n",
       "      <td>70B7A0759219DB7E</td>\n",
       "      <td>electric_bike</td>\n",
       "      <td>2023-07-13 13:38:44</td>\n",
       "      <td>2023-07-13 13:39:21</td>\n",
       "      <td>Kedzie Ave &amp; Lake St</td>\n",
       "      <td>KA1504000106</td>\n",
       "      <td>Kedzie Ave &amp; Lake St</td>\n",
       "      <td>KA1504000106</td>\n",
       "      <td>41.884788</td>\n",
       "      <td>-87.706334</td>\n",
       "      <td>41.884603</td>\n",
       "      <td>-87.706304</td>\n",
       "      <td>member</td>\n",
       "      <td>0 days 00:00:37</td>\n",
       "    </tr>\n",
       "    <tr>\n",
       "      <th>767626</th>\n",
       "      <td>C2B90902C368721D</td>\n",
       "      <td>electric_bike</td>\n",
       "      <td>2023-07-21 07:08:05</td>\n",
       "      <td>2023-07-21 07:08:42</td>\n",
       "      <td>Wood St &amp; Chicago Ave</td>\n",
       "      <td>637</td>\n",
       "      <td>Wood St &amp; Chicago Ave</td>\n",
       "      <td>637</td>\n",
       "      <td>41.895655</td>\n",
       "      <td>-87.672211</td>\n",
       "      <td>41.895634</td>\n",
       "      <td>-87.672069</td>\n",
       "      <td>member</td>\n",
       "      <td>0 days 00:00:37</td>\n",
       "    </tr>\n",
       "  </tbody>\n",
       "</table>\n",
       "<p>4983047 rows × 14 columns</p>\n",
       "</div>"
      ],
      "text/plain": [
       "                 ride_id  rideable_type          started_at   \n",
       "0       954144C2F67B1932   classic_bike 2022-07-05 08:12:47  \\\n",
       "1       292E027607D218B6   classic_bike 2022-07-26 12:53:38   \n",
       "2       57765852588AD6E0   classic_bike 2022-07-03 13:58:49   \n",
       "3       B5B6BE44314590E6   classic_bike 2022-07-31 17:44:21   \n",
       "4       A4C331F2A00E79E0   classic_bike 2022-07-13 19:49:06   \n",
       "...                  ...            ...                 ...   \n",
       "767338  3B228F52743C58B7   classic_bike 2023-07-21 13:13:48   \n",
       "767444  67BE62CFD9B1E3EA  electric_bike 2023-07-17 13:45:41   \n",
       "767535  E771BD59731AEC4D  electric_bike 2023-07-26 18:05:32   \n",
       "767594  70B7A0759219DB7E  electric_bike 2023-07-13 13:38:44   \n",
       "767626  C2B90902C368721D  electric_bike 2023-07-21 07:08:05   \n",
       "\n",
       "                  ended_at              start_station_name start_station_id   \n",
       "0      2022-07-05 08:24:32      Ashland Ave & Blackhawk St            13224  \\\n",
       "1      2022-07-26 12:55:31      Buckingham Fountain (Temp)            15541   \n",
       "2      2022-07-03 14:06:32      Buckingham Fountain (Temp)            15541   \n",
       "3      2022-07-31 18:42:50      Buckingham Fountain (Temp)            15541   \n",
       "4      2022-07-13 20:15:24          Wabash Ave & Grand Ave     TA1307000117   \n",
       "...                    ...                             ...              ...   \n",
       "767338 2023-07-21 15:08:04         Western Ave & Roscoe St            15634   \n",
       "767444 2023-07-17 13:45:43  California Ave & Milwaukee Ave            13084   \n",
       "767535 2023-07-26 18:18:23            Kenosha & Wellington              361   \n",
       "767594 2023-07-13 13:39:21            Kedzie Ave & Lake St     KA1504000106   \n",
       "767626 2023-07-21 07:08:42           Wood St & Chicago Ave              637   \n",
       "\n",
       "                      end_station_name end_station_id  start_lat  start_lng   \n",
       "0             Kingsbury St & Kinzie St   KA1503000043  41.907066 -87.667252  \\\n",
       "1                Michigan Ave & 8th St            623  41.869621 -87.623981   \n",
       "2                Michigan Ave & 8th St            623  41.869621 -87.623981   \n",
       "3               Woodlawn Ave & 55th St   TA1307000164  41.869621 -87.623981   \n",
       "4       Sheffield Ave & Wellington Ave   TA1307000052  41.891466 -87.626761   \n",
       "...                                ...            ...        ...        ...   \n",
       "767338         Western Ave & Roscoe St          15634  41.943034 -87.687288   \n",
       "767444  California Ave & Milwaukee Ave          13084  41.922667 -87.697114   \n",
       "767535            Kenosha & Wellington            361  41.934455 -87.733782   \n",
       "767594            Kedzie Ave & Lake St   KA1504000106  41.884788 -87.706334   \n",
       "767626           Wood St & Chicago Ave            637  41.895655 -87.672211   \n",
       "\n",
       "          end_lat    end_lng member_casual     ride_length  \n",
       "0       41.889177 -87.638506        member 0 days 00:11:45  \n",
       "1       41.872773 -87.623981        casual 0 days 00:01:53  \n",
       "2       41.872773 -87.623981        casual 0 days 00:07:43  \n",
       "3       41.795264 -87.596471        casual 0 days 00:58:29  \n",
       "4       41.936253 -87.652662        member 0 days 00:26:18  \n",
       "...           ...        ...           ...             ...  \n",
       "767338  41.943034 -87.687288        casual 0 days 01:54:16  \n",
       "767444  41.922695 -87.697153        member 0 days 00:00:02  \n",
       "767535  41.934442 -87.733780        member 0 days 00:12:51  \n",
       "767594  41.884603 -87.706304        member 0 days 00:00:37  \n",
       "767626  41.895634 -87.672069        member 0 days 00:00:37  \n",
       "\n",
       "[4983047 rows x 14 columns]"
      ]
     },
     "execution_count": 12,
     "metadata": {},
     "output_type": "execute_result"
    }
   ],
   "source": [
    "data"
   ]
  },
  {
   "cell_type": "markdown",
   "metadata": {},
   "source": []
  },
  {
   "cell_type": "markdown",
   "metadata": {},
   "source": [
    "day_of_week new column"
   ]
  },
  {
   "cell_type": "code",
   "execution_count": 13,
   "metadata": {},
   "outputs": [
    {
     "name": "stderr",
     "output_type": "stream",
     "text": [
      "C:\\Users\\PC\\AppData\\Local\\Temp\\ipykernel_7916\\3443457377.py:1: SettingWithCopyWarning: \n",
      "A value is trying to be set on a copy of a slice from a DataFrame.\n",
      "Try using .loc[row_indexer,col_indexer] = value instead\n",
      "\n",
      "See the caveats in the documentation: https://pandas.pydata.org/pandas-docs/stable/user_guide/indexing.html#returning-a-view-versus-a-copy\n",
      "  data['day_of_week'] = data['started_at'].dt.day_name()\n"
     ]
    }
   ],
   "source": [
    "data['day_of_week'] = data['started_at'].dt.day_name()\n"
   ]
  },
  {
   "cell_type": "code",
   "execution_count": 14,
   "metadata": {},
   "outputs": [
    {
     "data": {
      "text/html": [
       "<div>\n",
       "<style scoped>\n",
       "    .dataframe tbody tr th:only-of-type {\n",
       "        vertical-align: middle;\n",
       "    }\n",
       "\n",
       "    .dataframe tbody tr th {\n",
       "        vertical-align: top;\n",
       "    }\n",
       "\n",
       "    .dataframe thead th {\n",
       "        text-align: right;\n",
       "    }\n",
       "</style>\n",
       "<table border=\"1\" class=\"dataframe\">\n",
       "  <thead>\n",
       "    <tr style=\"text-align: right;\">\n",
       "      <th></th>\n",
       "      <th>ride_id</th>\n",
       "      <th>rideable_type</th>\n",
       "      <th>started_at</th>\n",
       "      <th>ended_at</th>\n",
       "      <th>start_station_name</th>\n",
       "      <th>start_station_id</th>\n",
       "      <th>end_station_name</th>\n",
       "      <th>end_station_id</th>\n",
       "      <th>start_lat</th>\n",
       "      <th>start_lng</th>\n",
       "      <th>end_lat</th>\n",
       "      <th>end_lng</th>\n",
       "      <th>member_casual</th>\n",
       "      <th>ride_length</th>\n",
       "      <th>day_of_week</th>\n",
       "    </tr>\n",
       "  </thead>\n",
       "  <tbody>\n",
       "    <tr>\n",
       "      <th>0</th>\n",
       "      <td>954144C2F67B1932</td>\n",
       "      <td>classic_bike</td>\n",
       "      <td>2022-07-05 08:12:47</td>\n",
       "      <td>2022-07-05 08:24:32</td>\n",
       "      <td>Ashland Ave &amp; Blackhawk St</td>\n",
       "      <td>13224</td>\n",
       "      <td>Kingsbury St &amp; Kinzie St</td>\n",
       "      <td>KA1503000043</td>\n",
       "      <td>41.907066</td>\n",
       "      <td>-87.667252</td>\n",
       "      <td>41.889177</td>\n",
       "      <td>-87.638506</td>\n",
       "      <td>member</td>\n",
       "      <td>0 days 00:11:45</td>\n",
       "      <td>Tuesday</td>\n",
       "    </tr>\n",
       "    <tr>\n",
       "      <th>1</th>\n",
       "      <td>292E027607D218B6</td>\n",
       "      <td>classic_bike</td>\n",
       "      <td>2022-07-26 12:53:38</td>\n",
       "      <td>2022-07-26 12:55:31</td>\n",
       "      <td>Buckingham Fountain (Temp)</td>\n",
       "      <td>15541</td>\n",
       "      <td>Michigan Ave &amp; 8th St</td>\n",
       "      <td>623</td>\n",
       "      <td>41.869621</td>\n",
       "      <td>-87.623981</td>\n",
       "      <td>41.872773</td>\n",
       "      <td>-87.623981</td>\n",
       "      <td>casual</td>\n",
       "      <td>0 days 00:01:53</td>\n",
       "      <td>Tuesday</td>\n",
       "    </tr>\n",
       "    <tr>\n",
       "      <th>2</th>\n",
       "      <td>57765852588AD6E0</td>\n",
       "      <td>classic_bike</td>\n",
       "      <td>2022-07-03 13:58:49</td>\n",
       "      <td>2022-07-03 14:06:32</td>\n",
       "      <td>Buckingham Fountain (Temp)</td>\n",
       "      <td>15541</td>\n",
       "      <td>Michigan Ave &amp; 8th St</td>\n",
       "      <td>623</td>\n",
       "      <td>41.869621</td>\n",
       "      <td>-87.623981</td>\n",
       "      <td>41.872773</td>\n",
       "      <td>-87.623981</td>\n",
       "      <td>casual</td>\n",
       "      <td>0 days 00:07:43</td>\n",
       "      <td>Sunday</td>\n",
       "    </tr>\n",
       "    <tr>\n",
       "      <th>3</th>\n",
       "      <td>B5B6BE44314590E6</td>\n",
       "      <td>classic_bike</td>\n",
       "      <td>2022-07-31 17:44:21</td>\n",
       "      <td>2022-07-31 18:42:50</td>\n",
       "      <td>Buckingham Fountain (Temp)</td>\n",
       "      <td>15541</td>\n",
       "      <td>Woodlawn Ave &amp; 55th St</td>\n",
       "      <td>TA1307000164</td>\n",
       "      <td>41.869621</td>\n",
       "      <td>-87.623981</td>\n",
       "      <td>41.795264</td>\n",
       "      <td>-87.596471</td>\n",
       "      <td>casual</td>\n",
       "      <td>0 days 00:58:29</td>\n",
       "      <td>Sunday</td>\n",
       "    </tr>\n",
       "    <tr>\n",
       "      <th>4</th>\n",
       "      <td>A4C331F2A00E79E0</td>\n",
       "      <td>classic_bike</td>\n",
       "      <td>2022-07-13 19:49:06</td>\n",
       "      <td>2022-07-13 20:15:24</td>\n",
       "      <td>Wabash Ave &amp; Grand Ave</td>\n",
       "      <td>TA1307000117</td>\n",
       "      <td>Sheffield Ave &amp; Wellington Ave</td>\n",
       "      <td>TA1307000052</td>\n",
       "      <td>41.891466</td>\n",
       "      <td>-87.626761</td>\n",
       "      <td>41.936253</td>\n",
       "      <td>-87.652662</td>\n",
       "      <td>member</td>\n",
       "      <td>0 days 00:26:18</td>\n",
       "      <td>Wednesday</td>\n",
       "    </tr>\n",
       "    <tr>\n",
       "      <th>...</th>\n",
       "      <td>...</td>\n",
       "      <td>...</td>\n",
       "      <td>...</td>\n",
       "      <td>...</td>\n",
       "      <td>...</td>\n",
       "      <td>...</td>\n",
       "      <td>...</td>\n",
       "      <td>...</td>\n",
       "      <td>...</td>\n",
       "      <td>...</td>\n",
       "      <td>...</td>\n",
       "      <td>...</td>\n",
       "      <td>...</td>\n",
       "      <td>...</td>\n",
       "      <td>...</td>\n",
       "    </tr>\n",
       "    <tr>\n",
       "      <th>767338</th>\n",
       "      <td>3B228F52743C58B7</td>\n",
       "      <td>classic_bike</td>\n",
       "      <td>2023-07-21 13:13:48</td>\n",
       "      <td>2023-07-21 15:08:04</td>\n",
       "      <td>Western Ave &amp; Roscoe St</td>\n",
       "      <td>15634</td>\n",
       "      <td>Western Ave &amp; Roscoe St</td>\n",
       "      <td>15634</td>\n",
       "      <td>41.943034</td>\n",
       "      <td>-87.687288</td>\n",
       "      <td>41.943034</td>\n",
       "      <td>-87.687288</td>\n",
       "      <td>casual</td>\n",
       "      <td>0 days 01:54:16</td>\n",
       "      <td>Friday</td>\n",
       "    </tr>\n",
       "    <tr>\n",
       "      <th>767444</th>\n",
       "      <td>67BE62CFD9B1E3EA</td>\n",
       "      <td>electric_bike</td>\n",
       "      <td>2023-07-17 13:45:41</td>\n",
       "      <td>2023-07-17 13:45:43</td>\n",
       "      <td>California Ave &amp; Milwaukee Ave</td>\n",
       "      <td>13084</td>\n",
       "      <td>California Ave &amp; Milwaukee Ave</td>\n",
       "      <td>13084</td>\n",
       "      <td>41.922667</td>\n",
       "      <td>-87.697114</td>\n",
       "      <td>41.922695</td>\n",
       "      <td>-87.697153</td>\n",
       "      <td>member</td>\n",
       "      <td>0 days 00:00:02</td>\n",
       "      <td>Monday</td>\n",
       "    </tr>\n",
       "    <tr>\n",
       "      <th>767535</th>\n",
       "      <td>E771BD59731AEC4D</td>\n",
       "      <td>electric_bike</td>\n",
       "      <td>2023-07-26 18:05:32</td>\n",
       "      <td>2023-07-26 18:18:23</td>\n",
       "      <td>Kenosha &amp; Wellington</td>\n",
       "      <td>361</td>\n",
       "      <td>Kenosha &amp; Wellington</td>\n",
       "      <td>361</td>\n",
       "      <td>41.934455</td>\n",
       "      <td>-87.733782</td>\n",
       "      <td>41.934442</td>\n",
       "      <td>-87.733780</td>\n",
       "      <td>member</td>\n",
       "      <td>0 days 00:12:51</td>\n",
       "      <td>Wednesday</td>\n",
       "    </tr>\n",
       "    <tr>\n",
       "      <th>767594</th>\n",
       "      <td>70B7A0759219DB7E</td>\n",
       "      <td>electric_bike</td>\n",
       "      <td>2023-07-13 13:38:44</td>\n",
       "      <td>2023-07-13 13:39:21</td>\n",
       "      <td>Kedzie Ave &amp; Lake St</td>\n",
       "      <td>KA1504000106</td>\n",
       "      <td>Kedzie Ave &amp; Lake St</td>\n",
       "      <td>KA1504000106</td>\n",
       "      <td>41.884788</td>\n",
       "      <td>-87.706334</td>\n",
       "      <td>41.884603</td>\n",
       "      <td>-87.706304</td>\n",
       "      <td>member</td>\n",
       "      <td>0 days 00:00:37</td>\n",
       "      <td>Thursday</td>\n",
       "    </tr>\n",
       "    <tr>\n",
       "      <th>767626</th>\n",
       "      <td>C2B90902C368721D</td>\n",
       "      <td>electric_bike</td>\n",
       "      <td>2023-07-21 07:08:05</td>\n",
       "      <td>2023-07-21 07:08:42</td>\n",
       "      <td>Wood St &amp; Chicago Ave</td>\n",
       "      <td>637</td>\n",
       "      <td>Wood St &amp; Chicago Ave</td>\n",
       "      <td>637</td>\n",
       "      <td>41.895655</td>\n",
       "      <td>-87.672211</td>\n",
       "      <td>41.895634</td>\n",
       "      <td>-87.672069</td>\n",
       "      <td>member</td>\n",
       "      <td>0 days 00:00:37</td>\n",
       "      <td>Friday</td>\n",
       "    </tr>\n",
       "  </tbody>\n",
       "</table>\n",
       "<p>4983047 rows × 15 columns</p>\n",
       "</div>"
      ],
      "text/plain": [
       "                 ride_id  rideable_type          started_at   \n",
       "0       954144C2F67B1932   classic_bike 2022-07-05 08:12:47  \\\n",
       "1       292E027607D218B6   classic_bike 2022-07-26 12:53:38   \n",
       "2       57765852588AD6E0   classic_bike 2022-07-03 13:58:49   \n",
       "3       B5B6BE44314590E6   classic_bike 2022-07-31 17:44:21   \n",
       "4       A4C331F2A00E79E0   classic_bike 2022-07-13 19:49:06   \n",
       "...                  ...            ...                 ...   \n",
       "767338  3B228F52743C58B7   classic_bike 2023-07-21 13:13:48   \n",
       "767444  67BE62CFD9B1E3EA  electric_bike 2023-07-17 13:45:41   \n",
       "767535  E771BD59731AEC4D  electric_bike 2023-07-26 18:05:32   \n",
       "767594  70B7A0759219DB7E  electric_bike 2023-07-13 13:38:44   \n",
       "767626  C2B90902C368721D  electric_bike 2023-07-21 07:08:05   \n",
       "\n",
       "                  ended_at              start_station_name start_station_id   \n",
       "0      2022-07-05 08:24:32      Ashland Ave & Blackhawk St            13224  \\\n",
       "1      2022-07-26 12:55:31      Buckingham Fountain (Temp)            15541   \n",
       "2      2022-07-03 14:06:32      Buckingham Fountain (Temp)            15541   \n",
       "3      2022-07-31 18:42:50      Buckingham Fountain (Temp)            15541   \n",
       "4      2022-07-13 20:15:24          Wabash Ave & Grand Ave     TA1307000117   \n",
       "...                    ...                             ...              ...   \n",
       "767338 2023-07-21 15:08:04         Western Ave & Roscoe St            15634   \n",
       "767444 2023-07-17 13:45:43  California Ave & Milwaukee Ave            13084   \n",
       "767535 2023-07-26 18:18:23            Kenosha & Wellington              361   \n",
       "767594 2023-07-13 13:39:21            Kedzie Ave & Lake St     KA1504000106   \n",
       "767626 2023-07-21 07:08:42           Wood St & Chicago Ave              637   \n",
       "\n",
       "                      end_station_name end_station_id  start_lat  start_lng   \n",
       "0             Kingsbury St & Kinzie St   KA1503000043  41.907066 -87.667252  \\\n",
       "1                Michigan Ave & 8th St            623  41.869621 -87.623981   \n",
       "2                Michigan Ave & 8th St            623  41.869621 -87.623981   \n",
       "3               Woodlawn Ave & 55th St   TA1307000164  41.869621 -87.623981   \n",
       "4       Sheffield Ave & Wellington Ave   TA1307000052  41.891466 -87.626761   \n",
       "...                                ...            ...        ...        ...   \n",
       "767338         Western Ave & Roscoe St          15634  41.943034 -87.687288   \n",
       "767444  California Ave & Milwaukee Ave          13084  41.922667 -87.697114   \n",
       "767535            Kenosha & Wellington            361  41.934455 -87.733782   \n",
       "767594            Kedzie Ave & Lake St   KA1504000106  41.884788 -87.706334   \n",
       "767626           Wood St & Chicago Ave            637  41.895655 -87.672211   \n",
       "\n",
       "          end_lat    end_lng member_casual     ride_length day_of_week  \n",
       "0       41.889177 -87.638506        member 0 days 00:11:45     Tuesday  \n",
       "1       41.872773 -87.623981        casual 0 days 00:01:53     Tuesday  \n",
       "2       41.872773 -87.623981        casual 0 days 00:07:43      Sunday  \n",
       "3       41.795264 -87.596471        casual 0 days 00:58:29      Sunday  \n",
       "4       41.936253 -87.652662        member 0 days 00:26:18   Wednesday  \n",
       "...           ...        ...           ...             ...         ...  \n",
       "767338  41.943034 -87.687288        casual 0 days 01:54:16      Friday  \n",
       "767444  41.922695 -87.697153        member 0 days 00:00:02      Monday  \n",
       "767535  41.934442 -87.733780        member 0 days 00:12:51   Wednesday  \n",
       "767594  41.884603 -87.706304        member 0 days 00:00:37    Thursday  \n",
       "767626  41.895634 -87.672069        member 0 days 00:00:37      Friday  \n",
       "\n",
       "[4983047 rows x 15 columns]"
      ]
     },
     "execution_count": 14,
     "metadata": {},
     "output_type": "execute_result"
    }
   ],
   "source": [
    "data"
   ]
  },
  {
   "cell_type": "code",
   "execution_count": 15,
   "metadata": {},
   "outputs": [
    {
     "name": "stderr",
     "output_type": "stream",
     "text": [
      "C:\\Users\\PC\\AppData\\Local\\Temp\\ipykernel_7916\\2989908038.py:1: SettingWithCopyWarning: \n",
      "A value is trying to be set on a copy of a slice from a DataFrame.\n",
      "Try using .loc[row_indexer,col_indexer] = value instead\n",
      "\n",
      "See the caveats in the documentation: https://pandas.pydata.org/pandas-docs/stable/user_guide/indexing.html#returning-a-view-versus-a-copy\n",
      "  data['day_of_week'] = (data['started_at'].dt.dayofweek + 1) % 7 + 1\n"
     ]
    }
   ],
   "source": [
    "data['day_of_week'] = (data['started_at'].dt.dayofweek + 1) % 7 + 1"
   ]
  },
  {
   "cell_type": "code",
   "execution_count": 16,
   "metadata": {},
   "outputs": [
    {
     "data": {
      "text/html": [
       "<div>\n",
       "<style scoped>\n",
       "    .dataframe tbody tr th:only-of-type {\n",
       "        vertical-align: middle;\n",
       "    }\n",
       "\n",
       "    .dataframe tbody tr th {\n",
       "        vertical-align: top;\n",
       "    }\n",
       "\n",
       "    .dataframe thead th {\n",
       "        text-align: right;\n",
       "    }\n",
       "</style>\n",
       "<table border=\"1\" class=\"dataframe\">\n",
       "  <thead>\n",
       "    <tr style=\"text-align: right;\">\n",
       "      <th></th>\n",
       "      <th>ride_id</th>\n",
       "      <th>rideable_type</th>\n",
       "      <th>started_at</th>\n",
       "      <th>ended_at</th>\n",
       "      <th>start_station_name</th>\n",
       "      <th>start_station_id</th>\n",
       "      <th>end_station_name</th>\n",
       "      <th>end_station_id</th>\n",
       "      <th>start_lat</th>\n",
       "      <th>start_lng</th>\n",
       "      <th>end_lat</th>\n",
       "      <th>end_lng</th>\n",
       "      <th>member_casual</th>\n",
       "      <th>ride_length</th>\n",
       "      <th>day_of_week</th>\n",
       "    </tr>\n",
       "  </thead>\n",
       "  <tbody>\n",
       "    <tr>\n",
       "      <th>0</th>\n",
       "      <td>954144C2F67B1932</td>\n",
       "      <td>classic_bike</td>\n",
       "      <td>2022-07-05 08:12:47</td>\n",
       "      <td>2022-07-05 08:24:32</td>\n",
       "      <td>Ashland Ave &amp; Blackhawk St</td>\n",
       "      <td>13224</td>\n",
       "      <td>Kingsbury St &amp; Kinzie St</td>\n",
       "      <td>KA1503000043</td>\n",
       "      <td>41.907066</td>\n",
       "      <td>-87.667252</td>\n",
       "      <td>41.889177</td>\n",
       "      <td>-87.638506</td>\n",
       "      <td>member</td>\n",
       "      <td>0 days 00:11:45</td>\n",
       "      <td>3</td>\n",
       "    </tr>\n",
       "    <tr>\n",
       "      <th>1</th>\n",
       "      <td>292E027607D218B6</td>\n",
       "      <td>classic_bike</td>\n",
       "      <td>2022-07-26 12:53:38</td>\n",
       "      <td>2022-07-26 12:55:31</td>\n",
       "      <td>Buckingham Fountain (Temp)</td>\n",
       "      <td>15541</td>\n",
       "      <td>Michigan Ave &amp; 8th St</td>\n",
       "      <td>623</td>\n",
       "      <td>41.869621</td>\n",
       "      <td>-87.623981</td>\n",
       "      <td>41.872773</td>\n",
       "      <td>-87.623981</td>\n",
       "      <td>casual</td>\n",
       "      <td>0 days 00:01:53</td>\n",
       "      <td>3</td>\n",
       "    </tr>\n",
       "    <tr>\n",
       "      <th>2</th>\n",
       "      <td>57765852588AD6E0</td>\n",
       "      <td>classic_bike</td>\n",
       "      <td>2022-07-03 13:58:49</td>\n",
       "      <td>2022-07-03 14:06:32</td>\n",
       "      <td>Buckingham Fountain (Temp)</td>\n",
       "      <td>15541</td>\n",
       "      <td>Michigan Ave &amp; 8th St</td>\n",
       "      <td>623</td>\n",
       "      <td>41.869621</td>\n",
       "      <td>-87.623981</td>\n",
       "      <td>41.872773</td>\n",
       "      <td>-87.623981</td>\n",
       "      <td>casual</td>\n",
       "      <td>0 days 00:07:43</td>\n",
       "      <td>1</td>\n",
       "    </tr>\n",
       "    <tr>\n",
       "      <th>3</th>\n",
       "      <td>B5B6BE44314590E6</td>\n",
       "      <td>classic_bike</td>\n",
       "      <td>2022-07-31 17:44:21</td>\n",
       "      <td>2022-07-31 18:42:50</td>\n",
       "      <td>Buckingham Fountain (Temp)</td>\n",
       "      <td>15541</td>\n",
       "      <td>Woodlawn Ave &amp; 55th St</td>\n",
       "      <td>TA1307000164</td>\n",
       "      <td>41.869621</td>\n",
       "      <td>-87.623981</td>\n",
       "      <td>41.795264</td>\n",
       "      <td>-87.596471</td>\n",
       "      <td>casual</td>\n",
       "      <td>0 days 00:58:29</td>\n",
       "      <td>1</td>\n",
       "    </tr>\n",
       "    <tr>\n",
       "      <th>4</th>\n",
       "      <td>A4C331F2A00E79E0</td>\n",
       "      <td>classic_bike</td>\n",
       "      <td>2022-07-13 19:49:06</td>\n",
       "      <td>2022-07-13 20:15:24</td>\n",
       "      <td>Wabash Ave &amp; Grand Ave</td>\n",
       "      <td>TA1307000117</td>\n",
       "      <td>Sheffield Ave &amp; Wellington Ave</td>\n",
       "      <td>TA1307000052</td>\n",
       "      <td>41.891466</td>\n",
       "      <td>-87.626761</td>\n",
       "      <td>41.936253</td>\n",
       "      <td>-87.652662</td>\n",
       "      <td>member</td>\n",
       "      <td>0 days 00:26:18</td>\n",
       "      <td>4</td>\n",
       "    </tr>\n",
       "    <tr>\n",
       "      <th>...</th>\n",
       "      <td>...</td>\n",
       "      <td>...</td>\n",
       "      <td>...</td>\n",
       "      <td>...</td>\n",
       "      <td>...</td>\n",
       "      <td>...</td>\n",
       "      <td>...</td>\n",
       "      <td>...</td>\n",
       "      <td>...</td>\n",
       "      <td>...</td>\n",
       "      <td>...</td>\n",
       "      <td>...</td>\n",
       "      <td>...</td>\n",
       "      <td>...</td>\n",
       "      <td>...</td>\n",
       "    </tr>\n",
       "    <tr>\n",
       "      <th>767338</th>\n",
       "      <td>3B228F52743C58B7</td>\n",
       "      <td>classic_bike</td>\n",
       "      <td>2023-07-21 13:13:48</td>\n",
       "      <td>2023-07-21 15:08:04</td>\n",
       "      <td>Western Ave &amp; Roscoe St</td>\n",
       "      <td>15634</td>\n",
       "      <td>Western Ave &amp; Roscoe St</td>\n",
       "      <td>15634</td>\n",
       "      <td>41.943034</td>\n",
       "      <td>-87.687288</td>\n",
       "      <td>41.943034</td>\n",
       "      <td>-87.687288</td>\n",
       "      <td>casual</td>\n",
       "      <td>0 days 01:54:16</td>\n",
       "      <td>6</td>\n",
       "    </tr>\n",
       "    <tr>\n",
       "      <th>767444</th>\n",
       "      <td>67BE62CFD9B1E3EA</td>\n",
       "      <td>electric_bike</td>\n",
       "      <td>2023-07-17 13:45:41</td>\n",
       "      <td>2023-07-17 13:45:43</td>\n",
       "      <td>California Ave &amp; Milwaukee Ave</td>\n",
       "      <td>13084</td>\n",
       "      <td>California Ave &amp; Milwaukee Ave</td>\n",
       "      <td>13084</td>\n",
       "      <td>41.922667</td>\n",
       "      <td>-87.697114</td>\n",
       "      <td>41.922695</td>\n",
       "      <td>-87.697153</td>\n",
       "      <td>member</td>\n",
       "      <td>0 days 00:00:02</td>\n",
       "      <td>2</td>\n",
       "    </tr>\n",
       "    <tr>\n",
       "      <th>767535</th>\n",
       "      <td>E771BD59731AEC4D</td>\n",
       "      <td>electric_bike</td>\n",
       "      <td>2023-07-26 18:05:32</td>\n",
       "      <td>2023-07-26 18:18:23</td>\n",
       "      <td>Kenosha &amp; Wellington</td>\n",
       "      <td>361</td>\n",
       "      <td>Kenosha &amp; Wellington</td>\n",
       "      <td>361</td>\n",
       "      <td>41.934455</td>\n",
       "      <td>-87.733782</td>\n",
       "      <td>41.934442</td>\n",
       "      <td>-87.733780</td>\n",
       "      <td>member</td>\n",
       "      <td>0 days 00:12:51</td>\n",
       "      <td>4</td>\n",
       "    </tr>\n",
       "    <tr>\n",
       "      <th>767594</th>\n",
       "      <td>70B7A0759219DB7E</td>\n",
       "      <td>electric_bike</td>\n",
       "      <td>2023-07-13 13:38:44</td>\n",
       "      <td>2023-07-13 13:39:21</td>\n",
       "      <td>Kedzie Ave &amp; Lake St</td>\n",
       "      <td>KA1504000106</td>\n",
       "      <td>Kedzie Ave &amp; Lake St</td>\n",
       "      <td>KA1504000106</td>\n",
       "      <td>41.884788</td>\n",
       "      <td>-87.706334</td>\n",
       "      <td>41.884603</td>\n",
       "      <td>-87.706304</td>\n",
       "      <td>member</td>\n",
       "      <td>0 days 00:00:37</td>\n",
       "      <td>5</td>\n",
       "    </tr>\n",
       "    <tr>\n",
       "      <th>767626</th>\n",
       "      <td>C2B90902C368721D</td>\n",
       "      <td>electric_bike</td>\n",
       "      <td>2023-07-21 07:08:05</td>\n",
       "      <td>2023-07-21 07:08:42</td>\n",
       "      <td>Wood St &amp; Chicago Ave</td>\n",
       "      <td>637</td>\n",
       "      <td>Wood St &amp; Chicago Ave</td>\n",
       "      <td>637</td>\n",
       "      <td>41.895655</td>\n",
       "      <td>-87.672211</td>\n",
       "      <td>41.895634</td>\n",
       "      <td>-87.672069</td>\n",
       "      <td>member</td>\n",
       "      <td>0 days 00:00:37</td>\n",
       "      <td>6</td>\n",
       "    </tr>\n",
       "  </tbody>\n",
       "</table>\n",
       "<p>4983047 rows × 15 columns</p>\n",
       "</div>"
      ],
      "text/plain": [
       "                 ride_id  rideable_type          started_at   \n",
       "0       954144C2F67B1932   classic_bike 2022-07-05 08:12:47  \\\n",
       "1       292E027607D218B6   classic_bike 2022-07-26 12:53:38   \n",
       "2       57765852588AD6E0   classic_bike 2022-07-03 13:58:49   \n",
       "3       B5B6BE44314590E6   classic_bike 2022-07-31 17:44:21   \n",
       "4       A4C331F2A00E79E0   classic_bike 2022-07-13 19:49:06   \n",
       "...                  ...            ...                 ...   \n",
       "767338  3B228F52743C58B7   classic_bike 2023-07-21 13:13:48   \n",
       "767444  67BE62CFD9B1E3EA  electric_bike 2023-07-17 13:45:41   \n",
       "767535  E771BD59731AEC4D  electric_bike 2023-07-26 18:05:32   \n",
       "767594  70B7A0759219DB7E  electric_bike 2023-07-13 13:38:44   \n",
       "767626  C2B90902C368721D  electric_bike 2023-07-21 07:08:05   \n",
       "\n",
       "                  ended_at              start_station_name start_station_id   \n",
       "0      2022-07-05 08:24:32      Ashland Ave & Blackhawk St            13224  \\\n",
       "1      2022-07-26 12:55:31      Buckingham Fountain (Temp)            15541   \n",
       "2      2022-07-03 14:06:32      Buckingham Fountain (Temp)            15541   \n",
       "3      2022-07-31 18:42:50      Buckingham Fountain (Temp)            15541   \n",
       "4      2022-07-13 20:15:24          Wabash Ave & Grand Ave     TA1307000117   \n",
       "...                    ...                             ...              ...   \n",
       "767338 2023-07-21 15:08:04         Western Ave & Roscoe St            15634   \n",
       "767444 2023-07-17 13:45:43  California Ave & Milwaukee Ave            13084   \n",
       "767535 2023-07-26 18:18:23            Kenosha & Wellington              361   \n",
       "767594 2023-07-13 13:39:21            Kedzie Ave & Lake St     KA1504000106   \n",
       "767626 2023-07-21 07:08:42           Wood St & Chicago Ave              637   \n",
       "\n",
       "                      end_station_name end_station_id  start_lat  start_lng   \n",
       "0             Kingsbury St & Kinzie St   KA1503000043  41.907066 -87.667252  \\\n",
       "1                Michigan Ave & 8th St            623  41.869621 -87.623981   \n",
       "2                Michigan Ave & 8th St            623  41.869621 -87.623981   \n",
       "3               Woodlawn Ave & 55th St   TA1307000164  41.869621 -87.623981   \n",
       "4       Sheffield Ave & Wellington Ave   TA1307000052  41.891466 -87.626761   \n",
       "...                                ...            ...        ...        ...   \n",
       "767338         Western Ave & Roscoe St          15634  41.943034 -87.687288   \n",
       "767444  California Ave & Milwaukee Ave          13084  41.922667 -87.697114   \n",
       "767535            Kenosha & Wellington            361  41.934455 -87.733782   \n",
       "767594            Kedzie Ave & Lake St   KA1504000106  41.884788 -87.706334   \n",
       "767626           Wood St & Chicago Ave            637  41.895655 -87.672211   \n",
       "\n",
       "          end_lat    end_lng member_casual     ride_length  day_of_week  \n",
       "0       41.889177 -87.638506        member 0 days 00:11:45            3  \n",
       "1       41.872773 -87.623981        casual 0 days 00:01:53            3  \n",
       "2       41.872773 -87.623981        casual 0 days 00:07:43            1  \n",
       "3       41.795264 -87.596471        casual 0 days 00:58:29            1  \n",
       "4       41.936253 -87.652662        member 0 days 00:26:18            4  \n",
       "...           ...        ...           ...             ...          ...  \n",
       "767338  41.943034 -87.687288        casual 0 days 01:54:16            6  \n",
       "767444  41.922695 -87.697153        member 0 days 00:00:02            2  \n",
       "767535  41.934442 -87.733780        member 0 days 00:12:51            4  \n",
       "767594  41.884603 -87.706304        member 0 days 00:00:37            5  \n",
       "767626  41.895634 -87.672069        member 0 days 00:00:37            6  \n",
       "\n",
       "[4983047 rows x 15 columns]"
      ]
     },
     "execution_count": 16,
     "metadata": {},
     "output_type": "execute_result"
    }
   ],
   "source": [
    "data"
   ]
  },
  {
   "cell_type": "code",
   "execution_count": 17,
   "metadata": {},
   "outputs": [
    {
     "name": "stderr",
     "output_type": "stream",
     "text": [
      "C:\\Users\\PC\\AppData\\Local\\Temp\\ipykernel_7916\\3103357926.py:2: SettingWithCopyWarning: \n",
      "A value is trying to be set on a copy of a slice from a DataFrame.\n",
      "Try using .loc[row_indexer,col_indexer] = value instead\n",
      "\n",
      "See the caveats in the documentation: https://pandas.pydata.org/pandas-docs/stable/user_guide/indexing.html#returning-a-view-versus-a-copy\n",
      "  data['ride_length'] = data['ride_length'].dt.total_seconds()\n"
     ]
    }
   ],
   "source": [
    "#converting ride_length to seconds\n",
    "data['ride_length'] = data['ride_length'].dt.total_seconds()\n"
   ]
  },
  {
   "cell_type": "markdown",
   "metadata": {},
   "source": [
    " Calculations"
   ]
  },
  {
   "cell_type": "code",
   "execution_count": 18,
   "metadata": {},
   "outputs": [
    {
     "data": {
      "text/plain": [
       "count    4.983047e+06\n",
       "mean     9.794570e+02\n",
       "std      2.221757e+03\n",
       "min     -1.012200e+04\n",
       "25%      3.470000e+02\n",
       "50%      6.080000e+02\n",
       "75%      1.088000e+03\n",
       "max      1.922127e+06\n",
       "Name: ride_length, dtype: float64"
      ]
     },
     "execution_count": 18,
     "metadata": {},
     "output_type": "execute_result"
    }
   ],
   "source": [
    "data[\"ride_length\"].describe()"
   ]
  },
  {
   "cell_type": "markdown",
   "metadata": {},
   "source": [
    "there is a negative ride_length that is not possible"
   ]
  },
  {
   "cell_type": "code",
   "execution_count": 19,
   "metadata": {},
   "outputs": [],
   "source": [
    "impossible_rows = data[data[\"ended_at\"] <= data[\"started_at\"]]"
   ]
  },
  {
   "cell_type": "code",
   "execution_count": 20,
   "metadata": {},
   "outputs": [],
   "source": [
    "rows_to_delete = impossible_rows.index\n"
   ]
  },
  {
   "cell_type": "code",
   "execution_count": 21,
   "metadata": {},
   "outputs": [],
   "source": [
    "#data_cleaning\n",
    "data = data.drop(rows_to_delete)\n"
   ]
  },
  {
   "cell_type": "code",
   "execution_count": 22,
   "metadata": {},
   "outputs": [
    {
     "data": {
      "text/plain": [
       "count    4.979761e+06\n",
       "mean     9.795802e+02\n",
       "std      2.222176e+03\n",
       "min      1.000000e+00\n",
       "25%      3.470000e+02\n",
       "50%      6.080000e+02\n",
       "75%      1.088000e+03\n",
       "max      1.922127e+06\n",
       "Name: ride_length, dtype: float64"
      ]
     },
     "execution_count": 22,
     "metadata": {},
     "output_type": "execute_result"
    }
   ],
   "source": [
    "data['ride_length'].describe()"
   ]
  },
  {
   "cell_type": "markdown",
   "metadata": {},
   "source": [
    "mean of ride_length: 0 days 00:18:44.573177608\n",
    "max ride_length: 35 days 17:41:24\n"
   ]
  },
  {
   "cell_type": "code",
   "execution_count": 23,
   "metadata": {},
   "outputs": [
    {
     "data": {
      "text/plain": [
       "ride_length\n",
       "343.0      5642\n",
       "292.0      5641\n",
       "326.0      5638\n",
       "324.0      5626\n",
       "274.0      5625\n",
       "           ... \n",
       "15749.0       1\n",
       "41986.0       1\n",
       "52162.0       1\n",
       "19996.0       1\n",
       "12996.0       1\n",
       "Name: count, Length: 20457, dtype: int64"
      ]
     },
     "execution_count": 23,
     "metadata": {},
     "output_type": "execute_result"
    }
   ],
   "source": [
    "value_counts = data[\"ride_length\"].value_counts()\n",
    "value_counts\n"
   ]
  },
  {
   "cell_type": "markdown",
   "metadata": {},
   "source": [
    " mode of day_of_week:0 days 00:04:52 7522 times"
   ]
  },
  {
   "cell_type": "markdown",
   "metadata": {},
   "source": [
    "average ride_length for members"
   ]
  },
  {
   "cell_type": "code",
   "execution_count": 24,
   "metadata": {},
   "outputs": [],
   "source": [
    "specific_value = \"member\"\n",
    "members_df = data[data['member_casual'] == specific_value].copy()"
   ]
  },
  {
   "cell_type": "code",
   "execution_count": 25,
   "metadata": {},
   "outputs": [
    {
     "data": {
      "text/plain": [
       "734.1809143459553"
      ]
     },
     "execution_count": 25,
     "metadata": {},
     "output_type": "execute_result"
    }
   ],
   "source": [
    "members_df['ride_length'].mean()"
   ]
  },
  {
   "cell_type": "markdown",
   "metadata": {},
   "source": [
    "average ride_length for casuals"
   ]
  },
  {
   "cell_type": "code",
   "execution_count": 26,
   "metadata": {},
   "outputs": [],
   "source": [
    "specific_value = \"casual\"\n",
    "casuals_df = data[data['member_casual'] == specific_value].copy()"
   ]
  },
  {
   "cell_type": "code",
   "execution_count": 27,
   "metadata": {},
   "outputs": [
    {
     "data": {
      "text/plain": [
       "1370.763399684946"
      ]
     },
     "execution_count": 27,
     "metadata": {},
     "output_type": "execute_result"
    }
   ],
   "source": [
    "casuals_df['ride_length'].mean()"
   ]
  },
  {
   "cell_type": "markdown",
   "metadata": {},
   "source": [
    "Average ride_length for users by day_of_week all users.\n",
    "\n",
    "1 :Sunday\n",
    "2:Monday\n",
    "3:Tuesday\n",
    "4:Wednesday\n",
    "5:Thursday\n",
    "6:Friday\n",
    "7:Saturday "
   ]
  },
  {
   "cell_type": "code",
   "execution_count": 28,
   "metadata": {},
   "outputs": [
    {
     "name": "stdout",
     "output_type": "stream",
     "text": [
      "day_of_week\n",
      "1    1176.252337\n",
      "2     934.155834\n",
      "3     871.188006\n",
      "4     848.233731\n",
      "5     870.789837\n",
      "6     957.986140\n",
      "7    1188.552784\n",
      "Name: ride_length, dtype: float64\n"
     ]
    }
   ],
   "source": [
    "import matplotlib.pyplot as plt\n",
    "import seaborn as sns\n",
    "sns.set_style(\"whitegrid\")\n",
    "\n",
    "days_of_week = ['Sunday', 'Monday', 'Tuesday','Wednesday','Thursday', 'Friday', 'Saturday']\n",
    "mean_ride_length_per_day_all_users = data.groupby('day_of_week')['ride_length'].mean()\n",
    "print(mean_ride_length_per_day_all_users)\n"
   ]
  },
  {
   "cell_type": "code",
   "execution_count": 29,
   "metadata": {},
   "outputs": [
    {
     "data": {
      "image/png": "[encoded data removed]",
      "text/plain": [
       "<Figure size 1000x600 with 1 Axes>"
      ]
     },
     "metadata": {},
     "output_type": "display_data"
    }
   ],
   "source": [
    "plt.figure(figsize=(10, 6))\n",
    "plt.bar(days_of_week, mean_ride_length_per_day_all_users, color=sns.color_palette(\"pastel\"))\n",
    "plt.xlabel('Day of the Week')\n",
    "plt.ylabel('Mean Ride Length (minutes)')\n",
    "plt.title('Mean Ride Length for all Riders by Day of the Week')\n",
    "plt.xticks(rotation=45)\n",
    "plt.tight_layout()\n",
    "\n",
    "plt.show()"
   ]
  },
  {
   "cell_type": "markdown",
   "metadata": {},
   "source": [
    "Average ride_length for users by day_of_week for  members."
   ]
  },
  {
   "cell_type": "code",
   "execution_count": 30,
   "metadata": {},
   "outputs": [
    {
     "name": "stdout",
     "output_type": "stream",
     "text": [
      "members day_of_week\n",
      "1    816.911501\n",
      "2    703.807898\n",
      "3    702.037742\n",
      "4    699.055738\n",
      "5    704.091127\n",
      "6    723.131187\n",
      "7    827.962534\n",
      "Name: ride_length, dtype: float64\n"
     ]
    }
   ],
   "source": [
    "mean_ride_length_per_day_members=members_df.groupby('day_of_week')['ride_length'].mean()\n",
    "print(\"members\",mean_ride_length_per_day_members)"
   ]
  },
  {
   "cell_type": "code",
   "execution_count": 31,
   "metadata": {},
   "outputs": [
    {
     "data": {
      "image/png": "[encoded data removed]",
      "text/plain": [
       "<Figure size 1000x600 with 1 Axes>"
      ]
     },
     "metadata": {},
     "output_type": "display_data"
    }
   ],
   "source": [
    "\n",
    "plt.figure(figsize=(10, 6))\n",
    "plt.bar(days_of_week, mean_ride_length_per_day_members, color=sns.color_palette(\"pastel\"))\n",
    "plt.xlabel('Day of the Week')\n",
    "plt.ylabel('Mean Ride Length (minutes)')\n",
    "plt.title('Mean Ride Length for member Riders by Day of the Week')\n",
    "plt.xticks(rotation=45)\n",
    "plt.tight_layout()\n",
    "\n",
    "plt.show()"
   ]
  },
  {
   "cell_type": "markdown",
   "metadata": {},
   "source": [
    "Average ride_length for users by day_of_week for casuals."
   ]
  },
  {
   "cell_type": "code",
   "execution_count": 32,
   "metadata": {},
   "outputs": [
    {
     "name": "stdout",
     "output_type": "stream",
     "text": [
      "casuals day_of_week\n",
      "1    1565.739062\n",
      "2    1376.398958\n",
      "3    1239.253141\n",
      "4    1170.647970\n",
      "5    1198.648890\n",
      "6    1318.177463\n",
      "7    1543.761383\n",
      "Name: ride_length, dtype: float64\n"
     ]
    }
   ],
   "source": [
    "mean_ride_length_per_day_casuals=casuals_df.groupby('day_of_week')['ride_length'].mean()\n",
    "print(\"casuals\",mean_ride_length_per_day_casuals)"
   ]
  },
  {
   "cell_type": "code",
   "execution_count": 33,
   "metadata": {},
   "outputs": [
    {
     "data": {
      "image/png": "[encoded data removed]",
      "text/plain": [
       "<Figure size 1000x600 with 1 Axes>"
      ]
     },
     "metadata": {},
     "output_type": "display_data"
    }
   ],
   "source": [
    "\n",
    "\n",
    "plt.figure(figsize=(10, 6))\n",
    "plt.bar(days_of_week, mean_ride_length_per_day_casuals, color=sns.color_palette(\"pastel\"))\n",
    "plt.xlabel('Day of the Week')\n",
    "plt.ylabel('Mean Ride Length (minutes)')\n",
    "plt.title('Mean Ride Length for Casual Riders by Day of the Week')\n",
    "plt.xticks(rotation=45)\n",
    "plt.tight_layout()\n",
    "\n",
    "plt.show()"
   ]
  },
  {
   "cell_type": "markdown",
   "metadata": {},
   "source": [
    "The highest Members Average ride_length is 00:14:03.464133858 in 7 \"Saturday\"<br>\n",
    "The highest Casuals Average ride_length is 00:33:09.021699462 in 1 \"Sunday\"\n",
    "\n",
    "#the Members have shorter ride_length than Casuals\n"
   ]
  },
  {
   "cell_type": "markdown",
   "metadata": {},
   "source": [
    "The number of rides for users by day_of_week"
   ]
  },
  {
   "cell_type": "markdown",
   "metadata": {},
   "source": []
  },
  {
   "cell_type": "code",
   "execution_count": 34,
   "metadata": {},
   "outputs": [
    {
     "data": {
      "text/plain": [
       "day_of_week\n",
       "1    650066\n",
       "2    658786\n",
       "3    697947\n",
       "4    712105\n",
       "5    735894\n",
       "6    725855\n",
       "7    799108\n",
       "Name: ride_id, dtype: int64"
      ]
     },
     "execution_count": 34,
     "metadata": {},
     "output_type": "execute_result"
    }
   ],
   "source": [
    "The_number_of_rides_for_users_by_day_of_week=data.groupby('day_of_week')['ride_id'].count()\n",
    "\n",
    "The_number_of_rides_for_users_by_day_of_week"
   ]
  },
  {
   "cell_type": "code",
   "execution_count": 35,
   "metadata": {},
   "outputs": [
    {
     "data": {
      "image/png": "[encoded data removed]",
      "text/plain": [
       "<Figure size 1000x600 with 1 Axes>"
      ]
     },
     "metadata": {},
     "output_type": "display_data"
    }
   ],
   "source": [
    "\n",
    "plt.figure(figsize=(10, 6))\n",
    "plt.bar(days_of_week, The_number_of_rides_for_users_by_day_of_week, color=sns.color_palette(\"pastel\"))\n",
    "plt.xlabel('Day of the Week')\n",
    "plt.ylabel('Number of rides')\n",
    "plt.title('Number of rides for all users by Day of the Week')\n",
    "plt.xticks(rotation=45)\n",
    "plt.tight_layout()"
   ]
  },
  {
   "cell_type": "markdown",
   "metadata": {},
   "source": [
    "The number of rides for members by day_of_week"
   ]
  },
  {
   "cell_type": "code",
   "execution_count": 36,
   "metadata": {},
   "outputs": [
    {
     "data": {
      "text/plain": [
       "day_of_week\n",
       "1    338118\n",
       "2    433166\n",
       "3    478188\n",
       "4    486846\n",
       "5    487849\n",
       "6    439372\n",
       "7    396550\n",
       "Name: ride_id, dtype: int64"
      ]
     },
     "execution_count": 36,
     "metadata": {},
     "output_type": "execute_result"
    }
   ],
   "source": [
    "The_number_of_rides_for_members_by_day_of_week=members_df.groupby('day_of_week')['ride_id'].count()\n",
    "\n",
    "The_number_of_rides_for_members_by_day_of_week"
   ]
  },
  {
   "cell_type": "code",
   "execution_count": 37,
   "metadata": {},
   "outputs": [
    {
     "data": {
      "image/png": "[encoded data removed]",
      "text/plain": [
       "<Figure size 1000x600 with 1 Axes>"
      ]
     },
     "metadata": {},
     "output_type": "display_data"
    }
   ],
   "source": [
    "\n",
    "plt.figure(figsize=(10, 6))\n",
    "plt.bar(days_of_week, The_number_of_rides_for_members_by_day_of_week, color=sns.color_palette(\"pastel\"))\n",
    "plt.xlabel('Day of the Week')\n",
    "plt.ylabel('Number of rides')\n",
    "plt.title('Number_of_rides for member Riders by Day of the Week')\n",
    "plt.xticks(rotation=45)\n",
    "plt.tight_layout()"
   ]
  },
  {
   "cell_type": "markdown",
   "metadata": {},
   "source": [
    "The number of rides for casuals by day_of_week"
   ]
  },
  {
   "cell_type": "code",
   "execution_count": 38,
   "metadata": {},
   "outputs": [
    {
     "data": {
      "text/plain": [
       "day_of_week\n",
       "1    311948\n",
       "2    225620\n",
       "3    219759\n",
       "4    225259\n",
       "5    248045\n",
       "6    286483\n",
       "7    402558\n",
       "Name: ride_id, dtype: int64"
      ]
     },
     "execution_count": 38,
     "metadata": {},
     "output_type": "execute_result"
    }
   ],
   "source": [
    "The_number_of_rides_for_casuals_by_day_of_week=casuals_df.groupby('day_of_week')['ride_id'].count()\n",
    "\n",
    "The_number_of_rides_for_casuals_by_day_of_week"
   ]
  },
  {
   "cell_type": "code",
   "execution_count": 39,
   "metadata": {},
   "outputs": [
    {
     "data": {
      "image/png": "[encoded data removed]",
      "text/plain": [
       "<Figure size 1000x600 with 1 Axes>"
      ]
     },
     "metadata": {},
     "output_type": "display_data"
    }
   ],
   "source": [
    "\n",
    "plt.figure(figsize=(10, 6))\n",
    "plt.bar(days_of_week, The_number_of_rides_for_casuals_by_day_of_week, color=sns.color_palette(\"pastel\"))\n",
    "plt.xlabel('Day of the Week')\n",
    "plt.ylabel('Number of rides')\n",
    "plt.title('Number of rides for member Riders by Day of the Week')\n",
    "plt.xticks(rotation=45)\n",
    "plt.tight_layout()"
   ]
  },
  {
   "cell_type": "markdown",
   "metadata": {},
   "source": [
    "**electric bikes**"
   ]
  },
  {
   "cell_type": "code",
   "execution_count": 52,
   "metadata": {},
   "outputs": [
    {
     "data": {
      "text/plain": [
       "1152113"
      ]
     },
     "execution_count": 52,
     "metadata": {},
     "output_type": "execute_result"
    }
   ],
   "source": [
    "len(members_df[members_df['rideable_type']=='electric_bike'])\n",
    "\n",
    "\n"
   ]
  },
  {
   "cell_type": "code",
   "execution_count": 53,
   "metadata": {},
   "outputs": [
    {
     "data": {
      "text/plain": [
       "1907976"
      ]
     },
     "execution_count": 53,
     "metadata": {},
     "output_type": "execute_result"
    }
   ],
   "source": [
    "len(members_df[members_df['rideable_type']=='classic_bike'])\n"
   ]
  },
  {
   "cell_type": "code",
   "execution_count": 58,
   "metadata": {},
   "outputs": [
    {
     "data": {
      "image/png": "[encoded data removed]",
      "text/plain": [
       "<Figure size 640x480 with 1 Axes>"
      ]
     },
     "metadata": {},
     "output_type": "display_data"
    }
   ],
   "source": [
    "category_counts = members_df['rideable_type'].value_counts()\n",
    "\n",
    "# Create a pie chart\n",
    "plt.pie(category_counts, labels=category_counts.index, autopct='%1.1f%%', startangle=140)\n",
    "plt.axis('equal')  # Equal aspect ratio ensures the pie chart is circular.\n",
    "\n",
    "# Add a title\n",
    "plt.title(\"Distribution of bike type for members\")\n",
    "\n",
    "# Display the pie chart\n",
    "plt.show()"
   ]
  },
  {
   "cell_type": "code",
   "execution_count": 55,
   "metadata": {},
   "outputs": [
    {
     "data": {
      "text/plain": [
       "819354"
      ]
     },
     "execution_count": 55,
     "metadata": {},
     "output_type": "execute_result"
    }
   ],
   "source": [
    "len(casuals_df[casuals_df['rideable_type']=='electric_bike'])\n"
   ]
  },
  {
   "cell_type": "code",
   "execution_count": 56,
   "metadata": {},
   "outputs": [
    {
     "data": {
      "text/plain": [
       "943722"
      ]
     },
     "execution_count": 56,
     "metadata": {},
     "output_type": "execute_result"
    }
   ],
   "source": [
    "len(casuals_df[casuals_df['rideable_type']=='classic_bike'])\n"
   ]
  },
  {
   "cell_type": "code",
   "execution_count": 59,
   "metadata": {},
   "outputs": [
    {
     "data": {
      "image/png": "[encoded data removed]",
      "text/plain": [
       "<Figure size 640x480 with 1 Axes>"
      ]
     },
     "metadata": {},
     "output_type": "display_data"
    }
   ],
   "source": [
    "category_counts = casuals_df['rideable_type'].value_counts()\n",
    "\n",
    "# Create a pie chart\n",
    "plt.pie(category_counts, labels=category_counts.index, autopct='%1.1f%%', startangle=140)\n",
    "plt.axis('equal')  # Equal aspect ratio ensures the pie chart is circular.\n",
    "\n",
    "# Add a title\n",
    "plt.title(\"Distribution of bike type for casuals \")\n",
    "\n",
    "# Display the pie chart\n",
    "plt.show()"
   ]
  },
  {
   "cell_type": "markdown",
   "metadata": {},
   "source": [
    "**How do annual members and casual riders use Cyclistic bikes differently?**<br>\n",
    "-Following the analysis, it became evident that the members prefere to cycle during on the days of the week(Monday-Tuesday-Wednsesday-Thursday-Friday)<br>whereas casual riders show a preference for week ends (Satudray-Sunday).\n",
    "-During the weekends, all riders go on longer rides compared to weekdays"
   ]
  },
  {
   "cell_type": "markdown",
   "metadata": {},
   "source": [
    "**Why would casual riders buy Cyclistic annual memberships?**<br>\n",
    "Casual riders might opt for Cyclistic annual memberships due to the potential for cost savings over individual rides, as well as the convenience of unlimited access to bikes without the need for frequent pass purchases."
   ]
  },
  {
   "cell_type": "markdown",
   "metadata": {},
   "source": [
    "**How can Cyclistic use digital media to influence casual riders to become members?**<br>\n",
    "Cyclistic can leverage digital media through targeted online campaigns, social media platforms,<br>\n",
    "and engaging content to influence casual riders to become members. They could showcase the benefits of annual membership, such as cost savings, convenience\n"
   ]
  },
  {
   "cell_type": "markdown",
   "metadata": {},
   "source": [
    "**Conclustion**<br>\n",
    "Based on the analysis, it's apparent that there is a distinction in riding preferences between the members and casual riders.<br>\n",
    "\n",
    "Members tend to cycle more on weekdays (Monday to Friday), indicating that they might use cycling as a mode of transportation or fitness during their regular routines. On the other hand, casual riders show a preference for weekends (Saturday and Sunday), suggesting that they might view cycling more as a leisure activity to enjoy during their free time.<br>\n",
    "\n",
    "This discrepancy could be due to various factors, such as work schedules, commitments, and motivations for cycling."
   ]
  }
 ],
 "metadata": {
  "kernelspec": {
   "display_name": "Python 3",
   "language": "python",
   "name": "python3"
  },
  "language_info": {
   "codemirror_mode": {
    "name": "ipython",
    "version": 3
   },
   "file_extension": ".py",
   "mimetype": "text/x-python",
   "name": "python",
   "nbconvert_exporter": "python",
   "pygments_lexer": "ipython3",
   "version": "3.9.11"
  },
  "orig_nbformat": 4
 },
 "nbformat": 4,
 "nbformat_minor": 2
}
